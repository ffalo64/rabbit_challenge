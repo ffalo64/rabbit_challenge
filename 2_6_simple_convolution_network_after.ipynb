{
  "nbformat": 4,
  "nbformat_minor": 0,
  "metadata": {
    "kernelspec": {
      "name": "python3",
      "display_name": "Python 3.8.5 64-bit ('TE-BF': conda)"
    },
    "language_info": {
      "codemirror_mode": {
        "name": "ipython",
        "version": 3
      },
      "file_extension": ".py",
      "mimetype": "text/x-python",
      "name": "python",
      "nbconvert_exporter": "python",
      "pygments_lexer": "ipython3",
      "version": "3.8.5"
    },
    "colab": {
      "provenance": [],
      "include_colab_link": true
    },
    "accelerator": "GPU",
    "interpreter": {
      "hash": "2c3a34dd19fbdd77fd1dec8c9940eb4c5c35bf3189654ec1682d5f40120b0240"
    }
  },
  "cells": [
    {
      "cell_type": "markdown",
      "metadata": {
        "id": "view-in-github",
        "colab_type": "text"
      },
      "source": [
        "<a href=\"https://colab.research.google.com/github/ffalo64/rabbit_challenge/blob/main/2_6_simple_convolution_network_after.ipynb\" target=\"_parent\"><img src=\"https://colab.research.google.com/assets/colab-badge.svg\" alt=\"Open In Colab\"/></a>"
      ]
    },
    {
      "cell_type": "markdown",
      "source": [
        "# 準備"
      ],
      "metadata": {
        "id": "8cNl2QA_Rnv5"
      }
    },
    {
      "cell_type": "markdown",
      "source": [
        "## Google Colab 用の処理\n",
        "\n",
        "下記を実行します\n",
        "- ドライブのマウント\n",
        "- ノートブックファイルと同じフォルダへの移動 \n",
        "\n",
        "Googleドライブのマイドライブ を基準に DNN_code/DNN_code_colab_day2 フォルダを置くことを仮定しています。必要に応じて，パスを変更してください．"
      ],
      "metadata": {
        "id": "YkwjN1jNVAYy"
      }
    },
    {
      "cell_type": "code",
      "execution_count": 1,
      "source": [
        "# Google Colab での実行かを調べる\n",
        "import sys\n",
        "import os\n",
        "ENV_COLAB = True  if 'google.colab' in sys.modules else False \n",
        "\n",
        "# google drive のマウント\n",
        "if ENV_COLAB:\n",
        "  from google.colab import drive \n",
        "  drive.mount('/content/drive')\n",
        "  os.chdir('/content/drive/My Drive/DNN_code/DNN_code_colab_day2/notebook')"
      ],
      "outputs": [
        {
          "output_type": "stream",
          "name": "stdout",
          "text": [
            "Mounted at /content/drive\n"
          ]
        }
      ],
      "metadata": {
        "id": "pvFXpiH3EVC1",
        "outputId": "035e1be9-efb3-4ad7-fbaf-1d4fcb86f366",
        "colab": {
          "base_uri": "https://localhost:8080/"
        }
      }
    },
    {
      "cell_type": "markdown",
      "source": [
        "## sys.pathの設定"
      ],
      "metadata": {
        "id": "3Ub7RYdeY6pK"
      }
    },
    {
      "cell_type": "code",
      "execution_count": 2,
      "source": [
        "import sys\n",
        "sys.path.append(os.pardir)  # 親ディレクトリのファイルをインポートするための設定"
      ],
      "outputs": [],
      "metadata": {
        "id": "7Ic2JzkvFX59"
      }
    },
    {
      "cell_type": "markdown",
      "source": [
        "# simple convolution network"
      ],
      "metadata": {
        "id": "pLzd0C0eqyF5"
      }
    },
    {
      "cell_type": "markdown",
      "source": [
        "## image to column"
      ],
      "metadata": {
        "id": "P42cqedsqyF6"
      }
    },
    {
      "cell_type": "code",
      "execution_count": 3,
      "source": [
        "import pickle\n",
        "import numpy as np\n",
        "from collections import OrderedDict\n",
        "from common import layers\n",
        "from common import optimizer\n",
        "from data.mnist import load_mnist\n",
        "import matplotlib.pyplot as plt\n",
        "\n",
        "# 画像データを２次元配列に変換\n",
        "'''\n",
        "input_data: 入力値\n",
        "filter_h: フィルターの高さ\n",
        "filter_w: フィルターの横幅\n",
        "stride: ストライド\n",
        "pad: パディング\n",
        "'''\n",
        "def im2col(input_data, filter_h, filter_w, stride=1, pad=0):\n",
        "    # N: number, C: channel, H: height, W: width\n",
        "    N, C, H, W = input_data.shape\n",
        "    # 切り捨て除算\n",
        "    out_h = (H + 2 * pad - filter_h)//stride + 1\n",
        "    out_w = (W + 2 * pad - filter_w)//stride + 1\n",
        "\n",
        "    img = np.pad(input_data, [(0,0), (0,0), (pad, pad), (pad, pad)], 'constant')\n",
        "    col = np.zeros((N, C, filter_h, filter_w, out_h, out_w))\n",
        "\n",
        "    for y in range(filter_h):\n",
        "        y_max = y + stride * out_h\n",
        "        for x in range(filter_w):\n",
        "            x_max = x + stride * out_w\n",
        "            col[:, :, y, x, :, :] = img[:, :, y:y_max:stride, x:x_max:stride]\n",
        "\n",
        "    col = col.transpose(0, 4, 5, 1, 2, 3) # (N, C, filter_h, filter_w, out_h, out_w) -> (N, filter_w, out_h, out_w, C, filter_h)    \n",
        "    \n",
        "    col = col.reshape(N * out_h * out_w, -1)\n",
        "    return col"
      ],
      "outputs": [],
      "metadata": {
        "id": "goQlh8SEqyF7"
      }
    },
    {
      "cell_type": "markdown",
      "source": [
        "----------------------------------------------------------------------------------------------------------------------------------------------------------------------------\n",
        "## [try] im2colの処理を確認しよう\n",
        "・関数内でtransposeの処理をしている行をコメントアウトして下のコードを実行してみよう<br>\n",
        "・input_dataの各次元のサイズやフィルターサイズ・ストライド・パディングを変えてみよう\n",
        "\n",
        "----------------------------------------------------------------------------------------------------------------------------------------------------------------------------"
      ],
      "metadata": {
        "id": "IN-wYqIkqyF_"
      }
    },
    {
      "cell_type": "code",
      "execution_count": 4,
      "source": [
        "# im2colの処理確認\n",
        "input_data = np.random.rand(2, 1, 4, 4)*100//1 # number, channel, height, widthを表す\n",
        "print('========== input_data ===========\\n', input_data)\n",
        "print('==============================')\n",
        "filter_h = 3\n",
        "filter_w = 3\n",
        "stride = 1\n",
        "pad = 0\n",
        "col = im2col(input_data, filter_h=filter_h, filter_w=filter_w, stride=stride, pad=pad)\n",
        "print('============= col ==============\\n', col)\n",
        "print('==============================')"
      ],
      "outputs": [
        {
          "output_type": "stream",
          "name": "stdout",
          "text": [
            "========== input_data ===========\n",
            " [[[[18. 98. 38.  4.]\n",
            "   [21. 97.  8. 26.]\n",
            "   [67. 44. 29. 15.]\n",
            "   [71. 51. 41. 33.]]]\n",
            "\n",
            "\n",
            " [[[35. 15. 72. 83.]\n",
            "   [34. 23. 54. 14.]\n",
            "   [12. 63. 78. 91.]\n",
            "   [42. 19. 24. 68.]]]]\n",
            "==============================\n",
            "============= col ==============\n",
            " [[18. 98. 38. 21. 97.  8. 67. 44. 29.]\n",
            " [98. 38.  4. 97.  8. 26. 44. 29. 15.]\n",
            " [21. 97.  8. 67. 44. 29. 71. 51. 41.]\n",
            " [97.  8. 26. 44. 29. 15. 51. 41. 33.]\n",
            " [35. 15. 72. 34. 23. 54. 12. 63. 78.]\n",
            " [15. 72. 83. 23. 54. 14. 63. 78. 91.]\n",
            " [34. 23. 54. 12. 63. 78. 42. 19. 24.]\n",
            " [23. 54. 14. 63. 78. 91. 19. 24. 68.]]\n",
            "==============================\n"
          ]
        }
      ],
      "metadata": {
        "id": "hgjmTNtTqyF_",
        "outputId": "2bf7cab0-6e57-49c9-deb4-00a31abb6b60",
        "colab": {
          "base_uri": "https://localhost:8080/"
        }
      }
    },
    {
      "cell_type": "markdown",
      "source": [
        "## column to image"
      ],
      "metadata": {
        "id": "LJUuuhH_qyGE"
      }
    },
    {
      "cell_type": "code",
      "execution_count": 5,
      "source": [
        "# ２次元配列を画像データに変換\n",
        "def col2im(col, input_shape, filter_h, filter_w, stride=1, pad=0):\n",
        "    # N: number, C: channel, H: height, W: width\n",
        "    N, C, H, W = input_shape\n",
        "    # 切り捨て除算    \n",
        "    out_h = (H + 2 * pad - filter_h)//stride + 1\n",
        "    out_w = (W + 2 * pad - filter_w)//stride + 1\n",
        "    col = col.reshape(N, out_h, out_w, C, filter_h, filter_w).transpose(0, 3, 4, 5, 1, 2) # (N, filter_h, filter_w, out_h, out_w, C)\n",
        "\n",
        "    img = np.zeros((N, C, H + 2 * pad + stride - 1, W + 2 * pad + stride - 1))\n",
        "    for y in range(filter_h):\n",
        "        y_max = y + stride * out_h\n",
        "        for x in range(filter_w):\n",
        "            x_max = x + stride * out_w\n",
        "            img[:, :, y:y_max:stride, x:x_max:stride] += col[:, :, y, x, :, :]\n",
        "\n",
        "    return img[:, :, pad:H + pad, pad:W + pad]"
      ],
      "outputs": [],
      "metadata": {
        "id": "4fJv1WjHqyGE"
      }
    },
    {
      "cell_type": "markdown",
      "source": [
        "----------------------------------------------------------------------------------------------------------------------------------------------------------------------------\n",
        "## [try] col2imの処理を確認しよう\n",
        "・im2colの確認で出力したcolをimageに変換して確認しよう\n",
        "\n",
        "----------------------------------------------------------------------------------------------------------------------------------------------------------------------------"
      ],
      "metadata": {
        "id": "5LL49exbqyGH"
      }
    },
    {
      "cell_type": "code",
      "execution_count": 6,
      "source": [
        "# ここにcol2imでの処理を書こう\n",
        "img = col2im(col, input_shape=input_data.shape, filter_h=filter_h, filter_w=filter_w, stride=stride, pad=pad)\n",
        "print(img)"
      ],
      "outputs": [
        {
          "output_type": "stream",
          "name": "stdout",
          "text": [
            "[[[[ 18. 196.  76.   4.]\n",
            "   [ 42. 388.  32.  52.]\n",
            "   [134. 176. 116.  30.]\n",
            "   [ 71. 102.  82.  33.]]]\n",
            "\n",
            "\n",
            " [[[ 35.  30. 144.  83.]\n",
            "   [ 68.  92. 216.  28.]\n",
            "   [ 24. 252. 312. 182.]\n",
            "   [ 42.  38.  48.  68.]]]]\n"
          ]
        }
      ],
      "metadata": {
        "id": "CRofdYlLqyGI",
        "outputId": "35802eb4-aa96-4b40-e6f9-f49f9c531c31",
        "colab": {
          "base_uri": "https://localhost:8080/"
        }
      }
    },
    {
      "cell_type": "markdown",
      "source": [
        "## convolution class"
      ],
      "metadata": {
        "id": "guurj1jcqyGK"
      }
    },
    {
      "cell_type": "code",
      "execution_count": 7,
      "source": [
        "class Convolution:\n",
        "    # W: フィルター, b: バイアス\n",
        "    def __init__(self, W, b, stride=1, pad=0):\n",
        "        self.W = W\n",
        "        self.b = b\n",
        "        self.stride = stride\n",
        "        self.pad = pad\n",
        "        \n",
        "        # 中間データ（backward時に使用）\n",
        "        self.x = None   \n",
        "        self.col = None\n",
        "        self.col_W = None\n",
        "        \n",
        "        # フィルター・バイアスパラメータの勾配\n",
        "        self.dW = None\n",
        "        self.db = None\n",
        "\n",
        "    def forward(self, x):\n",
        "        # FN: filter_number, C: channel, FH: filter_height, FW: filter_width\n",
        "        FN, C, FH, FW = self.W.shape\n",
        "        N, C, H, W = x.shape\n",
        "        # 出力値のheight, width\n",
        "        out_h = 1 + int((H + 2 * self.pad - FH) / self.stride)\n",
        "        out_w = 1 + int((W + 2 * self.pad - FW) / self.stride)\n",
        "        \n",
        "        # xを行列に変換\n",
        "        col = im2col(x, FH, FW, self.stride, self.pad)\n",
        "        # フィルターをxに合わせた行列に変換\n",
        "        col_W = self.W.reshape(FN, -1).T\n",
        "\n",
        "        out = np.dot(col, col_W) + self.b\n",
        "        # 計算のために変えた形式を戻す\n",
        "        out = out.reshape(N, out_h, out_w, -1).transpose(0, 3, 1, 2)\n",
        "\n",
        "        self.x = x\n",
        "        self.col = col\n",
        "        self.col_W = col_W\n",
        "\n",
        "        return out\n",
        "\n",
        "    def backward(self, dout):\n",
        "        FN, C, FH, FW = self.W.shape\n",
        "        dout = dout.transpose(0, 2, 3, 1).reshape(-1, FN)\n",
        "\n",
        "        self.db = np.sum(dout, axis=0)\n",
        "        self.dW = np.dot(self.col.T, dout)\n",
        "        self.dW = self.dW.transpose(1, 0).reshape(FN, C, FH, FW)\n",
        "\n",
        "        dcol = np.dot(dout, self.col_W.T)\n",
        "        # dcolを画像データに変換\n",
        "        dx = col2im(dcol, self.x.shape, FH, FW, self.stride, self.pad)\n",
        "\n",
        "        return dx\n"
      ],
      "outputs": [],
      "metadata": {
        "id": "cj68mVF9qyGL"
      }
    },
    {
      "cell_type": "markdown",
      "source": [
        "## pooling class"
      ],
      "metadata": {
        "id": "S8DvcFLkqyGN"
      }
    },
    {
      "cell_type": "code",
      "execution_count": 8,
      "source": [
        "class Pooling:\n",
        "    def __init__(self, pool_h, pool_w, stride=1, pad=0):\n",
        "        self.pool_h = pool_h\n",
        "        self.pool_w = pool_w\n",
        "        self.stride = stride\n",
        "        self.pad = pad\n",
        "        \n",
        "        self.x = None\n",
        "        self.arg_max = None\n",
        "\n",
        "    def forward(self, x):\n",
        "        N, C, H, W = x.shape\n",
        "        out_h = int(1 + (H - self.pool_h) / self.stride)\n",
        "        out_w = int(1 + (W - self.pool_w) / self.stride)\n",
        "        \n",
        "        # xを行列に変換\n",
        "        col = im2col(x, self.pool_h, self.pool_w, self.stride, self.pad)\n",
        "        # プーリングのサイズに合わせてリサイズ\n",
        "        col = col.reshape(-1, self.pool_h*self.pool_w)\n",
        "        \n",
        "        #maxプーリング\n",
        "        arg_max = np.argmax(col, axis=1)\n",
        "        out = np.max(col, axis=1)\n",
        "        out = out.reshape(N, out_h, out_w, C).transpose(0, 3, 1, 2)\n",
        "\n",
        "        self.x = x\n",
        "        self.arg_max = arg_max\n",
        "\n",
        "        return out\n",
        "\n",
        "    def backward(self, dout):\n",
        "        dout = dout.transpose(0, 2, 3, 1)\n",
        "        \n",
        "        pool_size = self.pool_h * self.pool_w\n",
        "        dmax = np.zeros((dout.size, pool_size))\n",
        "        dmax[np.arange(self.arg_max.size), self.arg_max.flatten()] = dout.flatten()\n",
        "        dmax = dmax.reshape(dout.shape + (pool_size,)) \n",
        "        \n",
        "        dcol = dmax.reshape(dmax.shape[0] * dmax.shape[1] * dmax.shape[2], -1)\n",
        "        dx = col2im(dcol, self.x.shape, self.pool_h, self.pool_w, self.stride, self.pad)\n",
        "        \n",
        "        return dx\n"
      ],
      "outputs": [],
      "metadata": {
        "id": "fPFQEp6oqyGO"
      }
    },
    {
      "cell_type": "markdown",
      "source": [
        "## sinple convolution network class"
      ],
      "metadata": {
        "id": "KLfCa2FsqyGR"
      }
    },
    {
      "cell_type": "code",
      "execution_count": 9,
      "source": [
        "class SimpleConvNet:\n",
        "    # conv - relu - pool - affine - relu - affine - softmax\n",
        "    def __init__(self, input_dim=(1, 28, 28), conv_param={'filter_num':30, 'filter_size':5, 'pad':0, 'stride':1},\n",
        "                 hidden_size=100, output_size=10, weight_init_std=0.01):\n",
        "        filter_num = conv_param['filter_num']        \n",
        "        filter_size = conv_param['filter_size']\n",
        "        filter_pad = conv_param['pad']\n",
        "        filter_stride = conv_param['stride']\n",
        "        input_size = input_dim[1]\n",
        "        conv_output_size = (input_size - filter_size + 2 * filter_pad) / filter_stride + 1\n",
        "        pool_output_size = int(filter_num * (conv_output_size / 2) * (conv_output_size / 2))\n",
        "\n",
        "        # 重みの初期化\n",
        "        self.params = {}\n",
        "        self.params['W1'] = weight_init_std * np.random.randn(filter_num, input_dim[0], filter_size, filter_size)\n",
        "        self.params['b1'] = np.zeros(filter_num)\n",
        "        self.params['W2'] = weight_init_std * np.random.randn(pool_output_size, hidden_size)\n",
        "        self.params['b2'] = np.zeros(hidden_size)\n",
        "        self.params['W3'] = weight_init_std * np.random.randn(hidden_size, output_size)\n",
        "        self.params['b3'] = np.zeros(output_size)\n",
        "\n",
        "        # レイヤの生成\n",
        "        self.layers = OrderedDict()\n",
        "        self.layers['Conv1'] = layers.Convolution(self.params['W1'], self.params['b1'], conv_param['stride'], conv_param['pad'])\n",
        "        self.layers['Relu1'] = layers.Relu()\n",
        "        self.layers['Pool1'] = layers.Pooling(pool_h=2, pool_w=2, stride=2)\n",
        "        self.layers['Affine1'] = layers.Affine(self.params['W2'], self.params['b2'])\n",
        "        self.layers['Relu2'] = layers.Relu()\n",
        "        self.layers['Affine2'] = layers.Affine(self.params['W3'], self.params['b3'])\n",
        "\n",
        "        self.last_layer = layers.SoftmaxWithLoss()\n",
        "\n",
        "    def predict(self, x):\n",
        "        for key in self.layers.keys():\n",
        "            x = self.layers[key].forward(x)\n",
        "        return x\n",
        "        \n",
        "    def loss(self, x, d):\n",
        "        y = self.predict(x)\n",
        "        return self.last_layer.forward(y, d)\n",
        "\n",
        "    def accuracy(self, x, d, batch_size=100):\n",
        "        if d.ndim != 1 : d = np.argmax(d, axis=1)\n",
        "        \n",
        "        acc = 0.0\n",
        "        \n",
        "        for i in range(int(x.shape[0] / batch_size)):\n",
        "            tx = x[i*batch_size:(i+1)*batch_size]\n",
        "            td = d[i*batch_size:(i+1)*batch_size]\n",
        "            y = self.predict(tx)\n",
        "            y = np.argmax(y, axis=1)\n",
        "            acc += np.sum(y == td) \n",
        "        \n",
        "        return acc / x.shape[0]\n",
        "\n",
        "    def gradient(self, x, d):\n",
        "        # forward\n",
        "        self.loss(x, d)\n",
        "        \n",
        "        # backward\n",
        "        dout = 1\n",
        "        dout = self.last_layer.backward(dout)\n",
        "        layers = list(self.layers.values())\n",
        "        \n",
        "        layers.reverse()\n",
        "        for layer in layers:\n",
        "            dout = layer.backward(dout)\n",
        "\n",
        "        # 設定\n",
        "        grad = {}\n",
        "        grad['W1'], grad['b1'] = self.layers['Conv1'].dW, self.layers['Conv1'].db\n",
        "        grad['W2'], grad['b2'] = self.layers['Affine1'].dW, self.layers['Affine1'].db\n",
        "        grad['W3'], grad['b3'] = self.layers['Affine2'].dW, self.layers['Affine2'].db\n",
        "\n",
        "        return grad"
      ],
      "outputs": [],
      "metadata": {
        "id": "dr8AeVz2qyGR"
      }
    },
    {
      "cell_type": "code",
      "execution_count": 10,
      "source": [
        "from common import optimizer\n",
        "\n",
        "# データの読み込み\n",
        "(x_train, d_train), (x_test, d_test) = load_mnist(flatten=False)\n",
        "\n",
        "print(\"データ読み込み完了\")\n",
        "\n",
        "# 処理に時間のかかる場合はデータを削減 \n",
        "x_train, d_train = x_train[:5000], d_train[:5000]\n",
        "x_test, d_test = x_test[:1000], d_test[:1000]\n",
        "\n",
        "\n",
        "network = SimpleConvNet(input_dim=(1,28,28), conv_param = {'filter_num': 30, 'filter_size': 5, 'pad': 0, 'stride': 1},\n",
        "                        hidden_size=100, output_size=10, weight_init_std=0.01)\n",
        "\n",
        "optimizer = optimizer.Adam()\n",
        "\n",
        "iters_num = 1000\n",
        "train_size = x_train.shape[0]\n",
        "batch_size = 100\n",
        "\n",
        "train_loss_list = []\n",
        "accuracies_train = []\n",
        "accuracies_test = []\n",
        "\n",
        "plot_interval=10\n",
        "\n",
        "\n",
        "\n",
        "for i in range(iters_num):\n",
        "    batch_mask = np.random.choice(train_size, batch_size)\n",
        "    x_batch = x_train[batch_mask]\n",
        "    d_batch = d_train[batch_mask]\n",
        "    \n",
        "    grad = network.gradient(x_batch, d_batch)\n",
        "    optimizer.update(network.params, grad)\n",
        "\n",
        "    loss = network.loss(x_batch, d_batch)\n",
        "    train_loss_list.append(loss)\n",
        "\n",
        "    if (i+1) % plot_interval == 0:\n",
        "        accr_train = network.accuracy(x_train, d_train)\n",
        "        accr_test = network.accuracy(x_test, d_test)\n",
        "        accuracies_train.append(accr_train)\n",
        "        accuracies_test.append(accr_test)\n",
        "        \n",
        "        print('Generation: ' + str(i+1) + '. 正答率(トレーニング) = ' + str(accr_train))\n",
        "        print('                : ' + str(i+1) + '. 正答率(テスト) = ' + str(accr_test))               \n",
        "\n",
        "lists = range(0, iters_num, plot_interval)\n",
        "plt.plot(lists, accuracies_train, label=\"training set\")\n",
        "plt.plot(lists, accuracies_test,  label=\"test set\")\n",
        "plt.legend(loc=\"lower right\")\n",
        "plt.title(\"accuracy\")\n",
        "plt.xlabel(\"count\")\n",
        "plt.ylabel(\"accuracy\")\n",
        "plt.ylim(0, 1.0)\n",
        "# グラフの表示\n",
        "plt.show()"
      ],
      "outputs": [
        {
          "output_type": "stream",
          "name": "stdout",
          "text": [
            "データ読み込み完了\n",
            "Generation: 10. 正答率(トレーニング) = 0.241\n",
            "                : 10. 正答率(テスト) = 0.202\n",
            "Generation: 20. 正答率(トレーニング) = 0.6088\n",
            "                : 20. 正答率(テスト) = 0.598\n",
            "Generation: 30. 正答率(トレーニング) = 0.7608\n",
            "                : 30. 正答率(テスト) = 0.724\n",
            "Generation: 40. 正答率(トレーニング) = 0.7722\n",
            "                : 40. 正答率(テスト) = 0.734\n",
            "Generation: 50. 正答率(トレーニング) = 0.821\n",
            "                : 50. 正答率(テスト) = 0.78\n",
            "Generation: 60. 正答率(トレーニング) = 0.8564\n",
            "                : 60. 正答率(テスト) = 0.828\n",
            "Generation: 70. 正答率(トレーニング) = 0.8636\n",
            "                : 70. 正答率(テスト) = 0.825\n",
            "Generation: 80. 正答率(トレーニング) = 0.852\n",
            "                : 80. 正答率(テスト) = 0.823\n",
            "Generation: 90. 正答率(トレーニング) = 0.8848\n",
            "                : 90. 正答率(テスト) = 0.84\n",
            "Generation: 100. 正答率(トレーニング) = 0.8856\n",
            "                : 100. 正答率(テスト) = 0.851\n",
            "Generation: 110. 正答率(トレーニング) = 0.891\n",
            "                : 110. 正答率(テスト) = 0.864\n",
            "Generation: 120. 正答率(トレーニング) = 0.8776\n",
            "                : 120. 正答率(テスト) = 0.844\n",
            "Generation: 130. 正答率(トレーニング) = 0.892\n",
            "                : 130. 正答率(テスト) = 0.853\n",
            "Generation: 140. 正答率(トレーニング) = 0.9056\n",
            "                : 140. 正答率(テスト) = 0.878\n",
            "Generation: 150. 正答率(トレーニング) = 0.8962\n",
            "                : 150. 正答率(テスト) = 0.873\n",
            "Generation: 160. 正答率(トレーニング) = 0.8964\n",
            "                : 160. 正答率(テスト) = 0.862\n",
            "Generation: 170. 正答率(トレーニング) = 0.907\n",
            "                : 170. 正答率(テスト) = 0.875\n",
            "Generation: 180. 正答率(トレーニング) = 0.9162\n",
            "                : 180. 正答率(テスト) = 0.876\n",
            "Generation: 190. 正答率(トレーニング) = 0.917\n",
            "                : 190. 正答率(テスト) = 0.886\n",
            "Generation: 200. 正答率(トレーニング) = 0.9262\n",
            "                : 200. 正答率(テスト) = 0.88\n",
            "Generation: 210. 正答率(トレーニング) = 0.9152\n",
            "                : 210. 正答率(テスト) = 0.892\n",
            "Generation: 220. 正答率(トレーニング) = 0.9212\n",
            "                : 220. 正答率(テスト) = 0.887\n",
            "Generation: 230. 正答率(トレーニング) = 0.9202\n",
            "                : 230. 正答率(テスト) = 0.884\n",
            "Generation: 240. 正答率(トレーニング) = 0.9272\n",
            "                : 240. 正答率(テスト) = 0.885\n",
            "Generation: 250. 正答率(トレーニング) = 0.9262\n",
            "                : 250. 正答率(テスト) = 0.894\n",
            "Generation: 260. 正答率(トレーニング) = 0.9318\n",
            "                : 260. 正答率(テスト) = 0.892\n",
            "Generation: 270. 正答率(トレーニング) = 0.9362\n",
            "                : 270. 正答率(テスト) = 0.91\n",
            "Generation: 280. 正答率(トレーニング) = 0.9332\n",
            "                : 280. 正答率(テスト) = 0.888\n",
            "Generation: 290. 正答率(トレーニング) = 0.9412\n",
            "                : 290. 正答率(テスト) = 0.907\n",
            "Generation: 300. 正答率(トレーニング) = 0.9422\n",
            "                : 300. 正答率(テスト) = 0.901\n",
            "Generation: 310. 正答率(トレーニング) = 0.9442\n",
            "                : 310. 正答率(テスト) = 0.918\n",
            "Generation: 320. 正答率(トレーニング) = 0.9476\n",
            "                : 320. 正答率(テスト) = 0.913\n",
            "Generation: 330. 正答率(トレーニング) = 0.944\n",
            "                : 330. 正答率(テスト) = 0.909\n",
            "Generation: 340. 正答率(トレーニング) = 0.9408\n",
            "                : 340. 正答率(テスト) = 0.912\n",
            "Generation: 350. 正答率(トレーニング) = 0.9532\n",
            "                : 350. 正答率(テスト) = 0.916\n",
            "Generation: 360. 正答率(トレーニング) = 0.9514\n",
            "                : 360. 正答率(テスト) = 0.931\n",
            "Generation: 370. 正答率(トレーニング) = 0.9516\n",
            "                : 370. 正答率(テスト) = 0.92\n",
            "Generation: 380. 正答率(トレーニング) = 0.9446\n",
            "                : 380. 正答率(テスト) = 0.919\n",
            "Generation: 390. 正答率(トレーニング) = 0.9544\n",
            "                : 390. 正答率(テスト) = 0.928\n",
            "Generation: 400. 正答率(トレーニング) = 0.9552\n",
            "                : 400. 正答率(テスト) = 0.923\n",
            "Generation: 410. 正答率(トレーニング) = 0.9538\n",
            "                : 410. 正答率(テスト) = 0.922\n",
            "Generation: 420. 正答率(トレーニング) = 0.9594\n",
            "                : 420. 正答率(テスト) = 0.925\n",
            "Generation: 430. 正答率(トレーニング) = 0.956\n",
            "                : 430. 正答率(テスト) = 0.926\n",
            "Generation: 440. 正答率(トレーニング) = 0.9624\n",
            "                : 440. 正答率(テスト) = 0.931\n",
            "Generation: 450. 正答率(トレーニング) = 0.9596\n",
            "                : 450. 正答率(テスト) = 0.93\n",
            "Generation: 460. 正答率(トレーニング) = 0.9606\n",
            "                : 460. 正答率(テスト) = 0.93\n",
            "Generation: 470. 正答率(トレーニング) = 0.9632\n",
            "                : 470. 正答率(テスト) = 0.928\n",
            "Generation: 480. 正答率(トレーニング) = 0.9626\n",
            "                : 480. 正答率(テスト) = 0.933\n",
            "Generation: 490. 正答率(トレーニング) = 0.9636\n",
            "                : 490. 正答率(テスト) = 0.932\n",
            "Generation: 500. 正答率(トレーニング) = 0.9642\n",
            "                : 500. 正答率(テスト) = 0.933\n",
            "Generation: 510. 正答率(トレーニング) = 0.9654\n",
            "                : 510. 正答率(テスト) = 0.923\n",
            "Generation: 520. 正答率(トレーニング) = 0.968\n",
            "                : 520. 正答率(テスト) = 0.936\n",
            "Generation: 530. 正答率(トレーニング) = 0.9688\n",
            "                : 530. 正答率(テスト) = 0.934\n",
            "Generation: 540. 正答率(トレーニング) = 0.9684\n",
            "                : 540. 正答率(テスト) = 0.934\n",
            "Generation: 550. 正答率(トレーニング) = 0.9696\n",
            "                : 550. 正答率(テスト) = 0.934\n",
            "Generation: 560. 正答率(トレーニング) = 0.968\n",
            "                : 560. 正答率(テスト) = 0.934\n",
            "Generation: 570. 正答率(トレーニング) = 0.9664\n",
            "                : 570. 正答率(テスト) = 0.927\n",
            "Generation: 580. 正答率(トレーニング) = 0.971\n",
            "                : 580. 正答率(テスト) = 0.94\n",
            "Generation: 590. 正答率(トレーニング) = 0.9738\n",
            "                : 590. 正答率(テスト) = 0.94\n",
            "Generation: 600. 正答率(トレーニング) = 0.9756\n",
            "                : 600. 正答率(テスト) = 0.938\n",
            "Generation: 610. 正答率(トレーニング) = 0.9746\n",
            "                : 610. 正答率(テスト) = 0.946\n",
            "Generation: 620. 正答率(トレーニング) = 0.978\n",
            "                : 620. 正答率(テスト) = 0.947\n",
            "Generation: 630. 正答率(トレーニング) = 0.978\n",
            "                : 630. 正答率(テスト) = 0.95\n",
            "Generation: 640. 正答率(トレーニング) = 0.9816\n",
            "                : 640. 正答率(テスト) = 0.946\n",
            "Generation: 650. 正答率(トレーニング) = 0.9738\n",
            "                : 650. 正答率(テスト) = 0.942\n",
            "Generation: 660. 正答率(トレーニング) = 0.9782\n",
            "                : 660. 正答率(テスト) = 0.945\n",
            "Generation: 670. 正答率(トレーニング) = 0.9788\n",
            "                : 670. 正答率(テスト) = 0.945\n",
            "Generation: 680. 正答率(トレーニング) = 0.9838\n",
            "                : 680. 正答率(テスト) = 0.945\n",
            "Generation: 690. 正答率(トレーニング) = 0.978\n",
            "                : 690. 正答率(テスト) = 0.942\n",
            "Generation: 700. 正答率(トレーニング) = 0.983\n",
            "                : 700. 正答率(テスト) = 0.942\n",
            "Generation: 710. 正答率(トレーニング) = 0.981\n",
            "                : 710. 正答率(テスト) = 0.946\n",
            "Generation: 720. 正答率(トレーニング) = 0.9798\n",
            "                : 720. 正答率(テスト) = 0.936\n",
            "Generation: 730. 正答率(トレーニング) = 0.9812\n",
            "                : 730. 正答率(テスト) = 0.947\n",
            "Generation: 740. 正答率(トレーニング) = 0.9812\n",
            "                : 740. 正答率(テスト) = 0.947\n",
            "Generation: 750. 正答率(トレーニング) = 0.982\n",
            "                : 750. 正答率(テスト) = 0.945\n",
            "Generation: 760. 正答率(トレーニング) = 0.9806\n",
            "                : 760. 正答率(テスト) = 0.939\n",
            "Generation: 770. 正答率(トレーニング) = 0.984\n",
            "                : 770. 正答率(テスト) = 0.947\n",
            "Generation: 780. 正答率(トレーニング) = 0.9822\n",
            "                : 780. 正答率(テスト) = 0.944\n",
            "Generation: 790. 正答率(トレーニング) = 0.9848\n",
            "                : 790. 正答率(テスト) = 0.939\n",
            "Generation: 800. 正答率(トレーニング) = 0.9864\n",
            "                : 800. 正答率(テスト) = 0.954\n",
            "Generation: 810. 正答率(トレーニング) = 0.987\n",
            "                : 810. 正答率(テスト) = 0.953\n",
            "Generation: 820. 正答率(トレーニング) = 0.9846\n",
            "                : 820. 正答率(テスト) = 0.953\n",
            "Generation: 830. 正答率(トレーニング) = 0.9886\n",
            "                : 830. 正答率(テスト) = 0.959\n",
            "Generation: 840. 正答率(トレーニング) = 0.9832\n",
            "                : 840. 正答率(テスト) = 0.938\n",
            "Generation: 850. 正答率(トレーニング) = 0.989\n",
            "                : 850. 正答率(テスト) = 0.941\n",
            "Generation: 860. 正答率(トレーニング) = 0.9848\n",
            "                : 860. 正答率(テスト) = 0.95\n",
            "Generation: 870. 正答率(トレーニング) = 0.9876\n",
            "                : 870. 正答率(テスト) = 0.945\n",
            "Generation: 880. 正答率(トレーニング) = 0.9888\n",
            "                : 880. 正答率(テスト) = 0.952\n",
            "Generation: 890. 正答率(トレーニング) = 0.9908\n",
            "                : 890. 正答率(テスト) = 0.948\n",
            "Generation: 900. 正答率(トレーニング) = 0.99\n",
            "                : 900. 正答率(テスト) = 0.952\n",
            "Generation: 910. 正答率(トレーニング) = 0.988\n",
            "                : 910. 正答率(テスト) = 0.948\n",
            "Generation: 920. 正答率(トレーニング) = 0.99\n",
            "                : 920. 正答率(テスト) = 0.955\n",
            "Generation: 930. 正答率(トレーニング) = 0.9904\n",
            "                : 930. 正答率(テスト) = 0.951\n",
            "Generation: 940. 正答率(トレーニング) = 0.9902\n",
            "                : 940. 正答率(テスト) = 0.952\n",
            "Generation: 950. 正答率(トレーニング) = 0.9896\n",
            "                : 950. 正答率(テスト) = 0.952\n",
            "Generation: 960. 正答率(トレーニング) = 0.9938\n",
            "                : 960. 正答率(テスト) = 0.956\n",
            "Generation: 970. 正答率(トレーニング) = 0.9924\n",
            "                : 970. 正答率(テスト) = 0.951\n",
            "Generation: 980. 正答率(トレーニング) = 0.9912\n",
            "                : 980. 正答率(テスト) = 0.945\n",
            "Generation: 990. 正答率(トレーニング) = 0.9928\n",
            "                : 990. 正答率(テスト) = 0.95\n",
            "Generation: 1000. 正答率(トレーニング) = 0.9916\n",
            "                : 1000. 正答率(テスト) = 0.95\n"
          ]
        },
        {
          "output_type": "display_data",
          "data": {
            "text/plain": [
              "<Figure size 640x480 with 1 Axes>"
            ],
            "image/png": "[encoded data removed]"
          },
          "metadata": {}
        }
      ],
      "metadata": {
        "scrolled": false,
        "id": "37cJRgGaqyGV",
        "outputId": "64d0fe9d-ad77-4bc9-868f-0dd4d002a8f2",
        "colab": {
          "base_uri": "https://localhost:8080/",
          "height": 1000
        }
      }
    }
  ]
}