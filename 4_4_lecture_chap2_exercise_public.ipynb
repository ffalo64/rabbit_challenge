{
  "nbformat": 4,
  "nbformat_minor": 0,
  "metadata": {
    "colab": {
      "provenance": [],
      "include_colab_link": true
    },
    "kernelspec": {
      "name": "python3",
      "display_name": "Python 3"
    },
    "accelerator": "GPU"
  },
  "cells": [
    {
      "cell_type": "markdown",
      "metadata": {
        "id": "view-in-github",
        "colab_type": "text"
      },
      "source": [
        "<a href=\"https://colab.research.google.com/github/ffalo64/rabbit_challenge/blob/main/4_4_lecture_chap2_exercise_public.ipynb\" target=\"_parent\"><img src=\"https://colab.research.google.com/assets/colab-badge.svg\" alt=\"Open In Colab\"/></a>"
      ]
    },
    {
      "metadata": {
        "id": "c183rGQUp2aJ"
      },
      "cell_type": "markdown",
      "source": [
        "# 演習 Transformerモデル"
      ]
    },
    {
      "metadata": {
        "id": "-dQ9b9Yjp2aL"
      },
      "cell_type": "markdown",
      "source": [
        "TransformerはRNNやCNNを使用せず、Attentionのみを用いるSeq2Seqモデルです。\n",
        "\n",
        "並列計算が可能なためRNNに比べて計算が高速な上、Self-Attentionと呼ばれる機構を用いることにより、局所的な位置しか参照できないCNNと異なり、系列内の任意の位置の情報を参照することを可能にしています。\n",
        "\n",
        "その他にもいくつかの工夫が加えられており、翻訳に限らない自然言語処理のあらゆるタスクで圧倒的な性能を示すことが知られています。\n",
        "\n",
        "原論文：[Attention is All You Need](https://arxiv.org/abs/1706.03762)\n",
        "\n",
        "参考実装：https://github.com/jadore801120/attention-is-all-you-need-pytorch"
      ]
    },
    {
      "metadata": {
        "id": "WwR-X5fqqPHC",
        "outputId": "2877ff5a-99ae-4800-b77a-878ad43c127f",
        "colab": {
          "base_uri": "https://localhost:8080/"
        }
      },
      "cell_type": "code",
      "source": [
        "! wget https://www.dropbox.com/s/9narw5x4uizmehh/utils.py\n",
        "! mkdir images data\n",
        "\n",
        "# data取得\n",
        "! wget https://www.dropbox.com/s/o4kyc52a8we25wy/dev.en -P data/\n",
        "! wget https://www.dropbox.com/s/kdgskm5hzg6znuc/dev.ja -P data/\n",
        "! wget https://www.dropbox.com/s/gyyx4gohv9v65uh/test.en -P data/\n",
        "! wget https://www.dropbox.com/s/hotxwbgoe2n013k/test.ja -P data/\n",
        "! wget https://www.dropbox.com/s/5lsftkmb20ay9e1/train.en -P data/\n",
        "! wget https://www.dropbox.com/s/ak53qirssci6f1j/train.ja -P data/"
      ],
      "execution_count": 1,
      "outputs": [
        {
          "output_type": "stream",
          "name": "stdout",
          "text": [
            "--2023-05-03 22:14:55--  https://www.dropbox.com/s/9narw5x4uizmehh/utils.py\n",
            "Resolving www.dropbox.com (www.dropbox.com)... 162.125.67.18, 2620:100:6027:18::a27d:4812\n",
            "Connecting to www.dropbox.com (www.dropbox.com)|162.125.67.18|:443... connected.\n",
            "HTTP request sent, awaiting response... 302 Found\n",
            "Location: /s/raw/9narw5x4uizmehh/utils.py [following]\n",
            "--2023-05-03 22:14:55--  https://www.dropbox.com/s/raw/9narw5x4uizmehh/utils.py\n",
            "Reusing existing connection to www.dropbox.com:443.\n",
            "HTTP request sent, awaiting response... 302 Found\n",
            "Location: https://uc46922d3c635b3be4bd114668e3.dl.dropboxusercontent.com/cd/0/inline/B7aIWO0cUs0-IyWetkX6krqq5pUlIz-EA-RiL8ZdA0MpZfqX_XNv7wheXTz0hEF9EX3JmVRsNRiiMuySb9NBn1IBhRJOAvB5wB_4jwFrEAK9V7rx2ZPTjVb6M8A-pPg6J2wrpll7lI1SdblkcleMab7yF8vzswsXl9NDcAUwxtKO1g/file# [following]\n",
            "--2023-05-03 22:14:56--  https://uc46922d3c635b3be4bd114668e3.dl.dropboxusercontent.com/cd/0/inline/B7aIWO0cUs0-IyWetkX6krqq5pUlIz-EA-RiL8ZdA0MpZfqX_XNv7wheXTz0hEF9EX3JmVRsNRiiMuySb9NBn1IBhRJOAvB5wB_4jwFrEAK9V7rx2ZPTjVb6M8A-pPg6J2wrpll7lI1SdblkcleMab7yF8vzswsXl9NDcAUwxtKO1g/file\n",
            "Resolving uc46922d3c635b3be4bd114668e3.dl.dropboxusercontent.com (uc46922d3c635b3be4bd114668e3.dl.dropboxusercontent.com)... 162.125.65.15, 2620:100:6027:15::a27d:480f\n",
            "Connecting to uc46922d3c635b3be4bd114668e3.dl.dropboxusercontent.com (uc46922d3c635b3be4bd114668e3.dl.dropboxusercontent.com)|162.125.65.15|:443... connected.\n",
            "HTTP request sent, awaiting response... 200 OK\n",
            "Length: 949 [text/plain]\n",
            "Saving to: ‘utils.py’\n",
            "\n",
            "utils.py            100%[===================>]     949  --.-KB/s    in 0s      \n",
            "\n",
            "2023-05-03 22:14:56 (135 MB/s) - ‘utils.py’ saved [949/949]\n",
            "\n",
            "--2023-05-03 22:14:56--  https://www.dropbox.com/s/o4kyc52a8we25wy/dev.en\n",
            "Resolving www.dropbox.com (www.dropbox.com)... 162.125.67.18, 2620:100:6027:18::a27d:4812\n",
            "Connecting to www.dropbox.com (www.dropbox.com)|162.125.67.18|:443... connected.\n",
            "HTTP request sent, awaiting response... 302 Found\n",
            "Location: /s/raw/o4kyc52a8we25wy/dev.en [following]\n",
            "--2023-05-03 22:14:57--  https://www.dropbox.com/s/raw/o4kyc52a8we25wy/dev.en\n",
            "Reusing existing connection to www.dropbox.com:443.\n",
            "HTTP request sent, awaiting response... 302 Found\n",
            "Location: https://uc8f232492a14f931892f9ca8298.dl.dropboxusercontent.com/cd/0/inline/B7YbvkGGg96NYkVGKss3lyQc4bpKdX7svDrJx5SHb617DbFj8Oz_ygRghevLz08PSTac2tK11BwzC6y-_9YSX21n_Z4fNI1fmQHZfMbadRKF_9qORr0RmcsGq9CAC-ImUWsab8qTgLskK7BADOho5GSc1FtrEd3EtI7bpcIgisj3Jw/file# [following]\n",
            "--2023-05-03 22:14:57--  https://uc8f232492a14f931892f9ca8298.dl.dropboxusercontent.com/cd/0/inline/B7YbvkGGg96NYkVGKss3lyQc4bpKdX7svDrJx5SHb617DbFj8Oz_ygRghevLz08PSTac2tK11BwzC6y-_9YSX21n_Z4fNI1fmQHZfMbadRKF_9qORr0RmcsGq9CAC-ImUWsab8qTgLskK7BADOho5GSc1FtrEd3EtI7bpcIgisj3Jw/file\n",
            "Resolving uc8f232492a14f931892f9ca8298.dl.dropboxusercontent.com (uc8f232492a14f931892f9ca8298.dl.dropboxusercontent.com)... 162.125.67.15, 2620:100:6021:15::a27d:410f\n",
            "Connecting to uc8f232492a14f931892f9ca8298.dl.dropboxusercontent.com (uc8f232492a14f931892f9ca8298.dl.dropboxusercontent.com)|162.125.67.15|:443... connected.\n",
            "HTTP request sent, awaiting response... 200 OK\n",
            "Length: 17054 (17K) [text/plain]\n",
            "Saving to: ‘data/dev.en’\n",
            "\n",
            "dev.en              100%[===================>]  16.65K  --.-KB/s    in 0s      \n",
            "\n",
            "2023-05-03 22:14:57 (35.4 MB/s) - ‘data/dev.en’ saved [17054/17054]\n",
            "\n",
            "--2023-05-03 22:14:57--  https://www.dropbox.com/s/kdgskm5hzg6znuc/dev.ja\n",
            "Resolving www.dropbox.com (www.dropbox.com)... 162.125.67.18, 2620:100:6027:18::a27d:4812\n",
            "Connecting to www.dropbox.com (www.dropbox.com)|162.125.67.18|:443... connected.\n",
            "HTTP request sent, awaiting response... 302 Found\n",
            "Location: /s/raw/kdgskm5hzg6znuc/dev.ja [following]\n",
            "--2023-05-03 22:14:57--  https://www.dropbox.com/s/raw/kdgskm5hzg6znuc/dev.ja\n",
            "Reusing existing connection to www.dropbox.com:443.\n",
            "HTTP request sent, awaiting response... 302 Found\n",
            "Location: https://ucac5c179d4b10272d2647aaf5f3.dl.dropboxusercontent.com/cd/0/inline/B7ZQTPhoGrTj_p2eaj2sC41kflOhB7catJbuYOot9wJ9dpI70xYKsSO8cjCHsHSMPOIq_3e4UtMwSwe93nz-5ZOSDhaDYPNv56FY6WzPEewNdld8JxhDnPsClVzxpsEl63HiDji3UpYW8IHtlKt_GCJw7DGFNauWNviMrliCDNWlDg/file# [following]\n",
            "--2023-05-03 22:14:58--  https://ucac5c179d4b10272d2647aaf5f3.dl.dropboxusercontent.com/cd/0/inline/B7ZQTPhoGrTj_p2eaj2sC41kflOhB7catJbuYOot9wJ9dpI70xYKsSO8cjCHsHSMPOIq_3e4UtMwSwe93nz-5ZOSDhaDYPNv56FY6WzPEewNdld8JxhDnPsClVzxpsEl63HiDji3UpYW8IHtlKt_GCJw7DGFNauWNviMrliCDNWlDg/file\n",
            "Resolving ucac5c179d4b10272d2647aaf5f3.dl.dropboxusercontent.com (ucac5c179d4b10272d2647aaf5f3.dl.dropboxusercontent.com)... 162.125.65.15, 2620:100:6021:15::a27d:410f\n",
            "Connecting to ucac5c179d4b10272d2647aaf5f3.dl.dropboxusercontent.com (ucac5c179d4b10272d2647aaf5f3.dl.dropboxusercontent.com)|162.125.65.15|:443... connected.\n",
            "HTTP request sent, awaiting response... 200 OK\n",
            "Length: 27781 (27K) [text/plain]\n",
            "Saving to: ‘data/dev.ja’\n",
            "\n",
            "dev.ja              100%[===================>]  27.13K  --.-KB/s    in 0.003s  \n",
            "\n",
            "2023-05-03 22:14:58 (8.36 MB/s) - ‘data/dev.ja’ saved [27781/27781]\n",
            "\n",
            "--2023-05-03 22:14:58--  https://www.dropbox.com/s/gyyx4gohv9v65uh/test.en\n",
            "Resolving www.dropbox.com (www.dropbox.com)... 162.125.67.18, 2620:100:6027:18::a27d:4812\n",
            "Connecting to www.dropbox.com (www.dropbox.com)|162.125.67.18|:443... connected.\n",
            "HTTP request sent, awaiting response... 302 Found\n",
            "Location: /s/raw/gyyx4gohv9v65uh/test.en [following]\n",
            "--2023-05-03 22:14:58--  https://www.dropbox.com/s/raw/gyyx4gohv9v65uh/test.en\n",
            "Reusing existing connection to www.dropbox.com:443.\n",
            "HTTP request sent, awaiting response... 302 Found\n",
            "Location: https://ucb034cafdce32731539a71df0fc.dl.dropboxusercontent.com/cd/0/inline/B7bMYeoJ_mvRsGEEYV_KXGLBoguloH5X3IV0Ev68jgZNc-hXR_zQx_a8Dgzx-Ez2Hrjq1E8x2ZMn7FgvxE0rnwAlO8Uycr_Wn8iGSobE84IPnN7T5Cx-zumTOLIBpxaZtYghJBhz_w8iVzbmLhSR-rOEPMZh71oUqCdpKHKKAz2-Tw/file# [following]\n",
            "--2023-05-03 22:14:59--  https://ucb034cafdce32731539a71df0fc.dl.dropboxusercontent.com/cd/0/inline/B7bMYeoJ_mvRsGEEYV_KXGLBoguloH5X3IV0Ev68jgZNc-hXR_zQx_a8Dgzx-Ez2Hrjq1E8x2ZMn7FgvxE0rnwAlO8Uycr_Wn8iGSobE84IPnN7T5Cx-zumTOLIBpxaZtYghJBhz_w8iVzbmLhSR-rOEPMZh71oUqCdpKHKKAz2-Tw/file\n",
            "Resolving ucb034cafdce32731539a71df0fc.dl.dropboxusercontent.com (ucb034cafdce32731539a71df0fc.dl.dropboxusercontent.com)... 162.125.65.15, 2620:100:6021:15::a27d:410f\n",
            "Connecting to ucb034cafdce32731539a71df0fc.dl.dropboxusercontent.com (ucb034cafdce32731539a71df0fc.dl.dropboxusercontent.com)|162.125.65.15|:443... connected.\n",
            "HTTP request sent, awaiting response... 200 OK\n",
            "Length: 17301 (17K) [text/plain]\n",
            "Saving to: ‘data/test.en’\n",
            "\n",
            "test.en             100%[===================>]  16.90K  --.-KB/s    in 0s      \n",
            "\n",
            "2023-05-03 22:14:59 (82.9 MB/s) - ‘data/test.en’ saved [17301/17301]\n",
            "\n",
            "--2023-05-03 22:14:59--  https://www.dropbox.com/s/hotxwbgoe2n013k/test.ja\n",
            "Resolving www.dropbox.com (www.dropbox.com)... 162.125.67.18, 2620:100:6027:18::a27d:4812\n",
            "Connecting to www.dropbox.com (www.dropbox.com)|162.125.67.18|:443... connected.\n",
            "HTTP request sent, awaiting response... 302 Found\n",
            "Location: /s/raw/hotxwbgoe2n013k/test.ja [following]\n",
            "--2023-05-03 22:14:59--  https://www.dropbox.com/s/raw/hotxwbgoe2n013k/test.ja\n",
            "Reusing existing connection to www.dropbox.com:443.\n",
            "HTTP request sent, awaiting response... 302 Found\n",
            "Location: https://uc46a7aed56960d12d3d0f0f14be.dl.dropboxusercontent.com/cd/0/inline/B7a11-zWWxSnnKAqMtzXjJbDXYcBjuzfVB0o4yZWtIqJ_S0mTt3UGBGuTMLt7xLdU8ljtiIQLge5R97b9_rJnrVX_hQih6fboAY6UkRTdamzcwPPkfOxTZQev2i9K_2pjOLPF5S9Z04NYC4jQWUcfPcJqFwSZelfBagIOxtQ5hIklA/file# [following]\n",
            "--2023-05-03 22:15:00--  https://uc46a7aed56960d12d3d0f0f14be.dl.dropboxusercontent.com/cd/0/inline/B7a11-zWWxSnnKAqMtzXjJbDXYcBjuzfVB0o4yZWtIqJ_S0mTt3UGBGuTMLt7xLdU8ljtiIQLge5R97b9_rJnrVX_hQih6fboAY6UkRTdamzcwPPkfOxTZQev2i9K_2pjOLPF5S9Z04NYC4jQWUcfPcJqFwSZelfBagIOxtQ5hIklA/file\n",
            "Resolving uc46a7aed56960d12d3d0f0f14be.dl.dropboxusercontent.com (uc46a7aed56960d12d3d0f0f14be.dl.dropboxusercontent.com)... 162.125.65.15, 2620:100:6027:15::a27d:480f\n",
            "Connecting to uc46a7aed56960d12d3d0f0f14be.dl.dropboxusercontent.com (uc46a7aed56960d12d3d0f0f14be.dl.dropboxusercontent.com)|162.125.65.15|:443... connected.\n",
            "HTTP request sent, awaiting response... 200 OK\n",
            "Length: 27793 (27K) [text/plain]\n",
            "Saving to: ‘data/test.ja’\n",
            "\n",
            "test.ja             100%[===================>]  27.14K  --.-KB/s    in 0.003s  \n",
            "\n",
            "2023-05-03 22:15:00 (8.99 MB/s) - ‘data/test.ja’ saved [27793/27793]\n",
            "\n",
            "--2023-05-03 22:15:00--  https://www.dropbox.com/s/5lsftkmb20ay9e1/train.en\n",
            "Resolving www.dropbox.com (www.dropbox.com)... 162.125.67.18, 2620:100:6027:18::a27d:4812\n",
            "Connecting to www.dropbox.com (www.dropbox.com)|162.125.67.18|:443... connected.\n",
            "HTTP request sent, awaiting response... 302 Found\n",
            "Location: /s/raw/5lsftkmb20ay9e1/train.en [following]\n",
            "--2023-05-03 22:15:00--  https://www.dropbox.com/s/raw/5lsftkmb20ay9e1/train.en\n",
            "Reusing existing connection to www.dropbox.com:443.\n",
            "HTTP request sent, awaiting response... 302 Found\n",
            "Location: https://uc8e5cc955a52a4457878854723e.dl.dropboxusercontent.com/cd/0/inline/B7bQCcekBSuYckhTrV_VtpaygAIxESM8vZDDG8C-Z0n0_IqfLPRmE5TOSx_5kJ__8AcWV_Ps8vqeQxIXJt70Xo_PRhefVDK0hRAAm3MuWKgI1Qmhihc_Bp4ScglvQcZg61OhxCbsBTDRdlVMgA0NCSH87_aiN1FwV0xaXo4vYSPiwA/file# [following]\n",
            "--2023-05-03 22:15:01--  https://uc8e5cc955a52a4457878854723e.dl.dropboxusercontent.com/cd/0/inline/B7bQCcekBSuYckhTrV_VtpaygAIxESM8vZDDG8C-Z0n0_IqfLPRmE5TOSx_5kJ__8AcWV_Ps8vqeQxIXJt70Xo_PRhefVDK0hRAAm3MuWKgI1Qmhihc_Bp4ScglvQcZg61OhxCbsBTDRdlVMgA0NCSH87_aiN1FwV0xaXo4vYSPiwA/file\n",
            "Resolving uc8e5cc955a52a4457878854723e.dl.dropboxusercontent.com (uc8e5cc955a52a4457878854723e.dl.dropboxusercontent.com)... 162.125.65.15, 2620:100:6021:15::a27d:410f\n",
            "Connecting to uc8e5cc955a52a4457878854723e.dl.dropboxusercontent.com (uc8e5cc955a52a4457878854723e.dl.dropboxusercontent.com)|162.125.65.15|:443... connected.\n",
            "HTTP request sent, awaiting response... 200 OK\n",
            "Length: 1701356 (1.6M) [text/plain]\n",
            "Saving to: ‘data/train.en’\n",
            "\n",
            "train.en            100%[===================>]   1.62M  --.-KB/s    in 0.09s   \n",
            "\n",
            "2023-05-03 22:15:01 (17.3 MB/s) - ‘data/train.en’ saved [1701356/1701356]\n",
            "\n",
            "--2023-05-03 22:15:01--  https://www.dropbox.com/s/ak53qirssci6f1j/train.ja\n",
            "Resolving www.dropbox.com (www.dropbox.com)... 162.125.67.18, 2620:100:6027:18::a27d:4812\n",
            "Connecting to www.dropbox.com (www.dropbox.com)|162.125.67.18|:443... connected.\n",
            "HTTP request sent, awaiting response... 302 Found\n",
            "Location: /s/raw/ak53qirssci6f1j/train.ja [following]\n",
            "--2023-05-03 22:15:01--  https://www.dropbox.com/s/raw/ak53qirssci6f1j/train.ja\n",
            "Reusing existing connection to www.dropbox.com:443.\n",
            "HTTP request sent, awaiting response... 302 Found\n",
            "Location: https://uca7d056655a1954007b8d428720.dl.dropboxusercontent.com/cd/0/inline/B7bp0Y4OGOj2DW7JTNYcQmWqWCyjt4BNnBxzImJqas2rRb4yuFojpFwTo6uBwt29yYRfjwwZnpX-bmN4xzqtFtWl8RGqi5dh6Cxd0HeGUedR63okfsZ7HZv2Xw3MBJ7l5IvOi5QEIgptCNpDG60A9nqW35vd3h1tDu-Cf7mFVHc6Uw/file# [following]\n",
            "--2023-05-03 22:15:02--  https://uca7d056655a1954007b8d428720.dl.dropboxusercontent.com/cd/0/inline/B7bp0Y4OGOj2DW7JTNYcQmWqWCyjt4BNnBxzImJqas2rRb4yuFojpFwTo6uBwt29yYRfjwwZnpX-bmN4xzqtFtWl8RGqi5dh6Cxd0HeGUedR63okfsZ7HZv2Xw3MBJ7l5IvOi5QEIgptCNpDG60A9nqW35vd3h1tDu-Cf7mFVHc6Uw/file\n",
            "Resolving uca7d056655a1954007b8d428720.dl.dropboxusercontent.com (uca7d056655a1954007b8d428720.dl.dropboxusercontent.com)... 162.125.65.15, 2620:100:6027:15::a27d:480f\n",
            "Connecting to uca7d056655a1954007b8d428720.dl.dropboxusercontent.com (uca7d056655a1954007b8d428720.dl.dropboxusercontent.com)|162.125.65.15|:443... connected.\n",
            "HTTP request sent, awaiting response... 200 OK\n",
            "Length: 2784447 (2.7M) [text/plain]\n",
            "Saving to: ‘data/train.ja’\n",
            "\n",
            "train.ja            100%[===================>]   2.66M  --.-KB/s    in 0.1s    \n",
            "\n",
            "2023-05-03 22:15:02 (26.3 MB/s) - ‘data/train.ja’ saved [2784447/2784447]\n",
            "\n"
          ]
        }
      ]
    },
    {
      "metadata": {
        "id": "zmG3Ihbpp2aN"
      },
      "cell_type": "code",
      "source": [
        "import time\n",
        "import numpy as np\n",
        "from sklearn.utils import shuffle\n",
        "from sklearn.model_selection import train_test_split\n",
        "import matplotlib\n",
        "import matplotlib.pyplot as plt\n",
        "import seaborn as sns\n",
        "%matplotlib inline\n",
        "\n",
        "from nltk import bleu_score\n",
        "\n",
        "import torch\n",
        "import torch.nn as nn\n",
        "import torch.optim as optim\n",
        "import torch.nn.functional as F\n",
        "\n",
        "from utils import Vocab\n",
        "\n",
        "device = torch.device(\"cuda\" if torch.cuda.is_available() else \"cpu\")\n",
        "\n",
        "torch.manual_seed(1)\n",
        "random_state = 42"
      ],
      "execution_count": 2,
      "outputs": []
    },
    {
      "metadata": {
        "id": "e50saJX2p2aQ",
        "outputId": "d670aaab-ec91-4847-bdd9-71b30de12eca",
        "colab": {
          "base_uri": "https://localhost:8080/"
        }
      },
      "cell_type": "code",
      "source": [
        "print(torch.__version__)"
      ],
      "execution_count": 3,
      "outputs": [
        {
          "output_type": "stream",
          "name": "stdout",
          "text": [
            "2.0.0+cu118\n"
          ]
        }
      ]
    },
    {
      "metadata": {
        "id": "YxRYfAn4p2aW"
      },
      "cell_type": "code",
      "source": [
        "PAD = 0\n",
        "UNK = 1\n",
        "BOS = 2\n",
        "EOS = 3\n",
        "\n",
        "PAD_TOKEN = '<PAD>'\n",
        "UNK_TOKEN = '<UNK>'\n",
        "BOS_TOKEN = '<S>'\n",
        "EOS_TOKEN = '</S>'"
      ],
      "execution_count": 4,
      "outputs": []
    },
    {
      "metadata": {
        "id": "JLfYkF9Cp2aZ"
      },
      "cell_type": "markdown",
      "source": [
        "## 1.データセット"
      ]
    },
    {
      "metadata": {
        "id": "8yesDStlp2aa"
      },
      "cell_type": "code",
      "source": [
        "def load_data(file_path):\n",
        "    \"\"\"\n",
        "    テキストファイルからデータを読み込む\n",
        "    :param file_path: str, テキストファイルのパス\n",
        "    :return data: list, 文章（単語のリスト）のリスト\n",
        "    \"\"\"\n",
        "    data = []\n",
        "    for line in open(file_path, encoding='utf-8'):\n",
        "        words = line.strip().split()  # スペースで単語を分割\n",
        "        data.append(words)\n",
        "    return data"
      ],
      "execution_count": 5,
      "outputs": []
    },
    {
      "metadata": {
        "id": "AN7_LZUdp2ad"
      },
      "cell_type": "code",
      "source": [
        "train_X = load_data('./data/train.en')\n",
        "train_Y = load_data('./data/train.ja')"
      ],
      "execution_count": 6,
      "outputs": []
    },
    {
      "metadata": {
        "id": "TkT-ADq-p2al"
      },
      "cell_type": "code",
      "source": [
        "# 訓練データと検証データに分割\n",
        "train_X, valid_X, train_Y, valid_Y = train_test_split(train_X, train_Y, test_size=0.2, random_state=random_state)"
      ],
      "execution_count": 7,
      "outputs": []
    },
    {
      "metadata": {
        "id": "Rlncckt2p2as",
        "outputId": "5ecf3c8b-a847-4712-eebe-055d38af8b2c",
        "colab": {
          "base_uri": "https://localhost:8080/"
        }
      },
      "cell_type": "code",
      "source": [
        "# データセットの中身を確認\n",
        "print('train_X:', train_X[:5])\n",
        "print('train_Y:', train_Y[:5])"
      ],
      "execution_count": 8,
      "outputs": [
        {
          "output_type": "stream",
          "name": "stdout",
          "text": [
            "train_X: [['where', 'shall', 'we', 'eat', 'tonight', '?'], ['i', 'made', 'a', 'big', 'mistake', 'in', 'choosing', 'my', 'wife', '.'], ['i', \"'ll\", 'have', 'to', 'think', 'about', 'it', '.'], ['it', 'is', 'called', 'a', 'lily', '.'], ['could', 'you', 'lend', 'me', 'some', 'money', 'until', 'this', 'weekend', '?']]\n",
            "train_Y: [['今夜', 'は', 'どこ', 'で', '食事', 'を', 'し', 'よ', 'う', 'か', '。'], ['僕', 'は', '妻', 'を', '選', 'ぶ', 'の', 'に', '大変', 'な', '間違い', 'を', 'し', 'た', '。'], ['考え', 'と', 'く', 'よ', '。'], ['ｌｉｌｙ', 'と', '呼', 'ば', 'れ', 'て', 'い', 'ま', 'す', '。'], ['今週末', 'まで', 'いくら', 'か', '金', 'を', '貸', 'し', 'て', 'くれ', 'ま', 'せ', 'ん', 'か', '。']]\n"
          ]
        }
      ]
    },
    {
      "metadata": {
        "id": "0r_RMRdPp2a1"
      },
      "cell_type": "code",
      "source": [
        "MIN_COUNT = 2  # 語彙に含める単語の最低出現回数\n",
        "\n",
        "word2id = {\n",
        "    PAD_TOKEN: PAD,\n",
        "    BOS_TOKEN: BOS,\n",
        "    EOS_TOKEN: EOS,\n",
        "    UNK_TOKEN: UNK,\n",
        "    }\n",
        "\n",
        "vocab_X = Vocab(word2id=word2id)\n",
        "vocab_Y = Vocab(word2id=word2id)\n",
        "vocab_X.build_vocab(train_X, min_count=MIN_COUNT)\n",
        "vocab_Y.build_vocab(train_Y, min_count=MIN_COUNT)\n",
        "\n",
        "vocab_size_X = len(vocab_X.id2word)\n",
        "vocab_size_Y = len(vocab_Y.id2word)"
      ],
      "execution_count": 9,
      "outputs": []
    },
    {
      "metadata": {
        "id": "wMP4omn-p2a5"
      },
      "cell_type": "code",
      "source": [
        "def sentence_to_ids(vocab, sentence):\n",
        "    \"\"\"\n",
        "    単語のリストをインデックスのリストに変換する\n",
        "    :param vocab: Vocabのインスタンス\n",
        "    :param sentence: list of str\n",
        "    :return indices: list of int\n",
        "    \"\"\"\n",
        "    ids = [vocab.word2id.get(word, UNK) for word in sentence]\n",
        "    ids = [BOS] + ids + [EOS]  # EOSを末尾に加える\n",
        "    return ids"
      ],
      "execution_count": 10,
      "outputs": []
    },
    {
      "metadata": {
        "id": "6qCMnmqFp2a7"
      },
      "cell_type": "code",
      "source": [
        "train_X = [sentence_to_ids(vocab_X, sentence) for sentence in train_X]\n",
        "train_Y = [sentence_to_ids(vocab_Y, sentence) for sentence in train_Y]\n",
        "valid_X = [sentence_to_ids(vocab_X, sentence) for sentence in valid_X]\n",
        "valid_Y = [sentence_to_ids(vocab_Y, sentence) for sentence in valid_Y]"
      ],
      "execution_count": 11,
      "outputs": []
    },
    {
      "metadata": {
        "id": "umBYKCRFp2a-"
      },
      "cell_type": "code",
      "source": [
        "class DataLoader(object):\n",
        "    def __init__(self, src_insts, tgt_insts, batch_size, shuffle=True):\n",
        "        \"\"\"\n",
        "        :param src_insts: list, 入力言語の文章（単語IDのリスト）のリスト\n",
        "        :param tgt_insts: list, 出力言語の文章（単語IDのリスト）のリスト\n",
        "        :param batch_size: int, バッチサイズ\n",
        "        :param shuffle: bool, サンプルの順番をシャッフルするか否か\n",
        "        \"\"\"\n",
        "        self.data = list(zip(src_insts, tgt_insts))\n",
        "\n",
        "        self.batch_size = batch_size\n",
        "        self.shuffle = shuffle\n",
        "        self.start_index = 0\n",
        "        \n",
        "        self.reset()\n",
        "    \n",
        "    def reset(self):\n",
        "        if self.shuffle:\n",
        "            self.data = shuffle(self.data, random_state=random_state)\n",
        "        self.start_index = 0\n",
        "    \n",
        "    def __iter__(self):\n",
        "        return self\n",
        "    \n",
        "    def __next__(self):\n",
        "\n",
        "        def preprocess_seqs(seqs):\n",
        "            # パディング\n",
        "            max_length = max([len(s) for s in seqs])\n",
        "            data = [s + [PAD] * (max_length - len(s)) for s in seqs]\n",
        "            # 単語の位置を表現するベクトルを作成\n",
        "            positions = [[pos+1 if w != PAD else 0 for pos, w in enumerate(seq)] for seq in data]\n",
        "            # テンソルに変換\n",
        "            data_tensor = torch.tensor(data, dtype=torch.long, device=device)\n",
        "            position_tensor = torch.tensor(positions, dtype=torch.long, device=device)\n",
        "            return data_tensor, position_tensor            \n",
        "\n",
        "        # ポインタが最後まで到達したら初期化する\n",
        "        if self.start_index >= len(self.data):\n",
        "            self.reset()\n",
        "            raise StopIteration()\n",
        "\n",
        "        # バッチを取得して前処理\n",
        "        src_seqs, tgt_seqs = zip(*self.data[self.start_index:self.start_index+self.batch_size])\n",
        "        src_data, src_pos = preprocess_seqs(src_seqs)\n",
        "        tgt_data, tgt_pos = preprocess_seqs(tgt_seqs)\n",
        "\n",
        "        # ポインタを更新する\n",
        "        self.start_index += self.batch_size\n",
        "\n",
        "        return (src_data, src_pos), (tgt_data, tgt_pos)"
      ],
      "execution_count": 12,
      "outputs": []
    },
    {
      "metadata": {
        "id": "f-rcK5zFp2bB"
      },
      "cell_type": "markdown",
      "source": [
        "## 2.各モジュールの定義\n",
        "TransformerのモデルもEncoder-Decoderモデルの構造になっています。\n",
        "EncoderとDecoderは\n",
        "- Positional Encoding: 入出力の単語のEmbedding時に単語の位置情報を埋め込む\n",
        "- Scaled Dot-Product Attention: 内積でAttentionを計算し、スケーリングを行う\n",
        "- Multi-head Attention: Scaled Dot-Product Attentionを複数のヘッドで並列化する\n",
        "- Position-Wise Feed Forward Network: 単語列の位置ごとに独立して処理を行う\n",
        "など、いくつかのモジュールから構成されているため、それぞれのモジュールを個別に定義していきます。"
      ]
    },
    {
      "metadata": {
        "id": "IDcDkr4ip2bF"
      },
      "cell_type": "markdown",
      "source": [
        "### ① Position Encoding\n",
        "Transformerは系列の処理にRNNを使用しないので、そのままでは単語列の語順を考慮することができません。\n",
        "\n",
        "そのため、入力系列の埋め込み行列に単語の位置情報を埋め込むPosition Encodingを加算します。\n",
        "\n",
        "Positional Encodingの行列$PE$の各成分は次式で表されます。\n",
        "$PE_{(pos, 2i)} = \\sin(pos/10000^{2i/d_{model}})$\n",
        "\n",
        "$PE_{(pos, 2i+1)} = \\cos(pos/10000^{2i/d_{model}})$\n",
        "ここで$pos$は単語の位置を、$i$は成分の次元を表しています。\n",
        "\n",
        "Positional Encodingの各成分は、波長が$2\\pi$から$10000*2\\pi$に幾何学的に伸びる正弦波に対応します。"
      ]
    },
    {
      "metadata": {
        "id": "9T8VxiHfp2bG"
      },
      "cell_type": "code",
      "source": [
        "def position_encoding_init(n_position, d_pos_vec):\n",
        "    \"\"\"\n",
        "    Positional Encodingのための行列の初期化を行う\n",
        "    :param n_position: int, 系列長\n",
        "    :param d_pos_vec: int, 隠れ層の次元数\n",
        "    :return torch.tensor, size=(n_position, d_pos_vec)\n",
        "    \"\"\"\n",
        "    # PADがある単語の位置はpos=0にしておき、position_encも0にする\n",
        "    position_enc = np.array([\n",
        "        [pos / np.power(10000, 2 * (j // 2) / d_pos_vec) for j in range(d_pos_vec)]\n",
        "        if pos != 0 else np.zeros(d_pos_vec) for pos in range(n_position)])\n",
        "    position_enc[1:, 0::2] = np.sin(position_enc[1:, 0::2])  # dim 2i\n",
        "    position_enc[1:, 1::2] = np.cos(position_enc[1:, 1::2])  # dim 2i+1\n",
        "    return torch.tensor(position_enc, dtype=torch.float)"
      ],
      "execution_count": 13,
      "outputs": []
    },
    {
      "metadata": {
        "id": "TaqSqkAup2bJ"
      },
      "cell_type": "markdown",
      "source": [
        "ちなみに、Position Encodingを可視化すると以下のようになります。"
      ]
    },
    {
      "metadata": {
        "id": "cUu6Kxlop2bK",
        "outputId": "0a9b1d6d-dabf-441c-c3c3-e18efe9858ee",
        "colab": {
          "base_uri": "https://localhost:8080/",
          "height": 694
        }
      },
      "cell_type": "code",
      "source": [
        "pe = position_encoding_init(50, 256).numpy()\n",
        "plt.figure(figsize=(16,8))\n",
        "sns.heatmap(pe, cmap='Blues')\n",
        "plt.show()"
      ],
      "execution_count": 14,
      "outputs": [
        {
          "output_type": "display_data",
          "data": {
            "text/plain": [
              "<Figure size 1600x800 with 2 Axes>"
            ],
            "image/png": "[encoded data removed]"
          },
          "metadata": {}
        }
      ]
    },
    {
      "metadata": {
        "id": "d6iudy2Vp2bV"
      },
      "cell_type": "markdown",
      "source": [
        "縦軸が単語の位置を、横軸が成分の次元を表しており、濃淡が加算される値です。\n",
        "\n",
        "ここでは最大系列長を50、隠れ層の次元数を256としました。"
      ]
    },
    {
      "metadata": {
        "id": "0sYQJIaHp2bY"
      },
      "cell_type": "markdown",
      "source": [
        "### ② Multihead Attention\n",
        "ソース・ターゲット注意機構と自己注意機構\n",
        "Attentionは一般に、queryベクトルとkeyベクトルの類似度を求めて、その正規化した重みをvalueベクトルに適用して値を取り出す処理を行います。\n",
        "\n",
        "一般的な翻訳モデルで用いられるAttentionはソース・ターゲット注意機構と呼ばれ、この場合queryはDecoderの隠れ状態(Target)、keyはEncoderの隠れ状態(Source)、valueもEncoderの隠れ状態(Source)で表現されるのが一般的です。モデル全体の図では、右側のDecoderブロックの中央にあるAttentionがこれに相当します。\n",
        "\n",
        "Transformerでは、このソース・ターゲット注意機構に加えて、query,key,valueを同じ系列内で定義する自己注意機構を用います。これにより、ある単語位置の出力を求める際にあらゆる位置を参照できるため、局所的な位置しか参照できない畳み込み層よりも良い性能を発揮できると言われています。モデル全体の図では、左側のEncoderブロックと右側のDecoderブロックの下部にあるAttentionがこれに当たります。"
      ]
    },
    {
      "metadata": {
        "id": "LaR4TfW2p2bZ"
      },
      "cell_type": "markdown",
      "source": [
        "Transformerでは、Scaled Dot-Product Attentionと呼ばれるAttentionを、複数のヘッドで並列に扱うMulti-Head Attentionによって、Source-Target-AttentionとSelf-Attentionを実現します。\n",
        "\n",
        "#### Scaled Dot-Product Attention\n",
        "Attentionには、注意の重みを隠れ層 1 つのフィードフォワードネットワークで求めるAdditive Attentionと、注意の重みを内積で求めるDot-Product Attentionが存在します。  一般に、Dot-Product Attentionのほうがパラメータが少なく高速であり、Transformerでもこちらを使います。\n",
        "\n",
        "\n",
        "Tranformerではさらなる工夫として、query($Q$)とkey($K$)の内積をスケーリング因子 $\\sqrt{d_k}$ で除算します。\n",
        "\n",
        "$Attention(Q, K, V) = softmax(\\frac{QK^T}{\\sqrt{d_k}})V$ \n",
        "\n",
        "\n",
        "これは、$d_k$（keyベクトルの次元数）が大きい場合に内積が大きくなりすぎて逆伝播のsoftmaxの勾配が極端に小さくなることを防ぐ役割を果たします。"
      ]
    },
    {
      "metadata": {
        "id": "N7FawizWp2ba"
      },
      "cell_type": "code",
      "source": [
        "class ScaledDotProductAttention(nn.Module):\n",
        "    \n",
        "    def __init__(self, d_model, attn_dropout=0.1):\n",
        "        \"\"\"\n",
        "        :param d_model: int, 隠れ層の次元数\n",
        "        :param attn_dropout: float, ドロップアウト率\n",
        "        \"\"\"\n",
        "        super(ScaledDotProductAttention, self).__init__()\n",
        "        self.temper = np.power(d_model, 0.5)  # スケーリング因子\n",
        "        self.dropout = nn.Dropout(attn_dropout)\n",
        "        self.softmax = nn.Softmax(dim=-1)\n",
        "\n",
        "    def forward(self, q, k, v, attn_mask):\n",
        "        \"\"\"\n",
        "        :param q: torch.tensor, queryベクトル, \n",
        "            size=(n_head*batch_size, len_q, d_model/n_head)\n",
        "        :param k: torch.tensor, key, \n",
        "            size=(n_head*batch_size, len_k, d_model/n_head)\n",
        "        :param v: torch.tensor, valueベクトル, \n",
        "            size=(n_head*batch_size, len_v, d_model/n_head)\n",
        "        :param attn_mask: torch.tensor, Attentionに適用するマスク, \n",
        "            size=(n_head*batch_size, len_q, len_k)\n",
        "        :return output: 出力ベクトル, \n",
        "            size=(n_head*batch_size, len_q, d_model/n_head)\n",
        "        :return attn: Attention\n",
        "            size=(n_head*batch_size, len_q, len_k)\n",
        "        \"\"\"\n",
        "        # QとKの内積でAttentionの重みを求め、スケーリングする\n",
        "        attn = torch.bmm(q, k.transpose(1, 2)) / self.temper  # (n_head*batch_size, len_q, len_k)\n",
        "        # Attentionをかけたくない部分がある場合は、その部分を負の無限大に飛ばしてSoftmaxの値が0になるようにする\n",
        "        attn.data.masked_fill_(attn_mask, -float('inf'))\n",
        "        \n",
        "        attn = self.softmax(attn)\n",
        "        attn = self.dropout(attn)\n",
        "        output = torch.bmm(attn, v)\n",
        "\n",
        "        return output, attn"
      ],
      "execution_count": 15,
      "outputs": []
    },
    {
      "metadata": {
        "id": "Iw1FIuWip2bd"
      },
      "cell_type": "markdown",
      "source": [
        "#### Multi-Head Attention\n",
        "TransformerではAttentionを複数のヘッドで並列に行うMulti-Head Attentionを採用しています。\n",
        "\n",
        "複数のヘッドでAttentionを行うことにより、各ヘッドが異なる部分空間を処理でき、精度が向上するとされています。"
      ]
    },
    {
      "metadata": {
        "id": "tYZJzsfxp2bf"
      },
      "cell_type": "code",
      "source": [
        "class MultiHeadAttention(nn.Module):\n",
        "    def __init__(self, n_head, d_model, d_k, d_v, dropout=0.1):\n",
        "        \"\"\"\n",
        "        :param n_head: int, ヘッド数\n",
        "        :param d_model: int, 隠れ層の次元数\n",
        "        :param d_k: int, keyベクトルの次元数\n",
        "        :param d_v: int, valueベクトルの次元数\n",
        "        :param dropout: float, ドロップアウト率\n",
        "        \"\"\"\n",
        "        super(MultiHeadAttention, self).__init__()\n",
        "\n",
        "        self.n_head = n_head\n",
        "        self.d_k = d_k\n",
        "        self.d_v = d_v\n",
        "\n",
        "        # 各ヘッドごとに異なる重みで線形変換を行うための重み\n",
        "        # nn.Parameterを使うことで、Moduleのパラメータとして登録できる. TFでは更新が必要な変数はtf.Variableでラップするのでわかりやすい\n",
        "        self.w_qs = nn.Parameter(torch.empty([n_head, d_model, d_k], dtype=torch.float))\n",
        "        self.w_ks = nn.Parameter(torch.empty([n_head, d_model, d_k], dtype=torch.float))\n",
        "        self.w_vs = nn.Parameter(torch.empty([n_head, d_model, d_v], dtype=torch.float))\n",
        "        # nn.init.xavier_normal_で重みの値を初期化\n",
        "        nn.init.xavier_normal_(self.w_qs)\n",
        "        nn.init.xavier_normal_(self.w_ks)\n",
        "        nn.init.xavier_normal_(self.w_vs)\n",
        "\n",
        "        self.attention = ScaledDotProductAttention(d_model)\n",
        "        self.layer_norm = nn.LayerNorm(d_model) # 各層においてバイアスを除く活性化関数への入力を平均０、分散１に正則化\n",
        "        self.proj = nn.Linear(n_head*d_v, d_model)  # 複数ヘッド分のAttentionの結果を元のサイズに写像するための線形層\n",
        "        # nn.init.xavier_normal_で重みの値を初期化\n",
        "        nn.init.xavier_normal_(self.proj.weight)\n",
        "        \n",
        "        self.dropout = nn.Dropout(dropout)\n",
        "\n",
        "\n",
        "    def forward(self, q, k, v, attn_mask=None):\n",
        "        \"\"\"\n",
        "        :param q: torch.tensor, queryベクトル, \n",
        "            size=(batch_size, len_q, d_model)\n",
        "        :param k: torch.tensor, key, \n",
        "            size=(batch_size, len_k, d_model)\n",
        "        :param v: torch.tensor, valueベクトル, \n",
        "            size=(batch_size, len_v, d_model)\n",
        "        :param attn_mask: torch.tensor, Attentionに適用するマスク, \n",
        "            size=(batch_size, len_q, len_k)\n",
        "        :return outputs: 出力ベクトル, \n",
        "            size=(batch_size, len_q, d_model)\n",
        "        :return attns: Attention\n",
        "            size=(n_head*batch_size, len_q, len_k)\n",
        "            \n",
        "        \"\"\"\n",
        "        d_k, d_v = self.d_k, self.d_v\n",
        "        n_head = self.n_head\n",
        "\n",
        "        # residual connectionのための入力 出力に入力をそのまま加算する\n",
        "        residual = q\n",
        "\n",
        "        batch_size, len_q, d_model = q.size()\n",
        "        batch_size, len_k, d_model = k.size()\n",
        "        batch_size, len_v, d_model = v.size()\n",
        "\n",
        "        # 複数ヘッド化\n",
        "        # torch.repeat または .repeatで指定したdimに沿って同じテンソルを作成\n",
        "        q_s = q.repeat(n_head, 1, 1) # (n_head*batch_size, len_q, d_model)\n",
        "        k_s = k.repeat(n_head, 1, 1) # (n_head*batch_size, len_k, d_model)\n",
        "        v_s = v.repeat(n_head, 1, 1) # (n_head*batch_size, len_v, d_model)\n",
        "        # ヘッドごとに並列計算させるために、n_headをdim=0に、batch_sizeをdim=1に寄せる\n",
        "        q_s = q_s.view(n_head, -1, d_model) # (n_head, batch_size*len_q, d_model)\n",
        "        k_s = k_s.view(n_head, -1, d_model) # (n_head, batch_size*len_k, d_model)\n",
        "        v_s = v_s.view(n_head, -1, d_model) # (n_head, batch_size*len_v, d_model)\n",
        "\n",
        "        # 各ヘッドで線形変換を並列計算(p16左側`Linear`)\n",
        "        q_s = torch.bmm(q_s, self.w_qs)  # (n_head, batch_size*len_q, d_k)\n",
        "        k_s = torch.bmm(k_s, self.w_ks)  # (n_head, batch_size*len_k, d_k)\n",
        "        v_s = torch.bmm(v_s, self.w_vs)  # (n_head, batch_size*len_v, d_v)\n",
        "        # Attentionは各バッチ各ヘッドごとに計算させるためにbatch_sizeをdim=0に寄せる\n",
        "        q_s = q_s.view(-1, len_q, d_k)   # (n_head*batch_size, len_q, d_k)\n",
        "        k_s = k_s.view(-1, len_k, d_k)   # (n_head*batch_size, len_k, d_k)\n",
        "        v_s = v_s.view(-1, len_v, d_v)   # (n_head*batch_size, len_v, d_v)\n",
        "\n",
        "        # Attentionを計算(p16.左側`Scaled Dot-Product Attention * h`)\n",
        "        outputs, attns = self.attention(q_s, k_s, v_s, attn_mask=attn_mask.repeat(n_head, 1, 1))\n",
        "\n",
        "        # 各ヘッドの結果を連結(p16左側`Concat`)\n",
        "        # torch.splitでbatch_sizeごとのn_head個のテンソルに分割\n",
        "        outputs = torch.split(outputs, batch_size, dim=0)  # (batch_size, len_q, d_model) * n_head\n",
        "        # dim=-1で連結\n",
        "        outputs = torch.cat(outputs, dim=-1)  # (batch_size, len_q, d_model*n_head)\n",
        "\n",
        "        # residual connectionのために元の大きさに写像(p16左側`Linear`)\n",
        "        outputs = self.proj(outputs)  # (batch_size, len_q, d_model)\n",
        "        outputs = self.dropout(outputs)\n",
        "        outputs = self.layer_norm(outputs + residual)\n",
        "\n",
        "        return outputs, attns"
      ],
      "execution_count": 16,
      "outputs": []
    },
    {
      "metadata": {
        "id": "SR37dOECp2bn"
      },
      "cell_type": "markdown",
      "source": [
        "### ③ Position-Wise Feed Forward Network\n",
        "単語列の位置ごとに独立して処理する2層のネットワークであるPosition-Wise Feed Forward Networkを定義します。"
      ]
    },
    {
      "metadata": {
        "id": "8Eor7Q0Zp2bo"
      },
      "cell_type": "code",
      "source": [
        "class PositionwiseFeedForward(nn.Module):\n",
        "    \"\"\"\n",
        "    :param d_hid: int, 隠れ層1層目の次元数\n",
        "    :param d_inner_hid: int, 隠れ層2層目の次元数\n",
        "    :param dropout: float, ドロップアウト率\n",
        "    \"\"\"\n",
        "    def __init__(self, d_hid, d_inner_hid, dropout=0.1):\n",
        "        super(PositionwiseFeedForward, self).__init__()\n",
        "        # window size 1のconv層を定義することでPosition wiseな全結合層を実現する.\n",
        "        self.w_1 = nn.Conv1d(d_hid, d_inner_hid, 1)\n",
        "        self.w_2 = nn.Conv1d(d_inner_hid, d_hid, 1)\n",
        "        self.layer_norm = nn.LayerNorm(d_hid)\n",
        "        self.dropout = nn.Dropout(dropout)\n",
        "        self.relu = nn.ReLU()\n",
        "\n",
        "    def forward(self, x):\n",
        "        \"\"\"\n",
        "        :param x: torch.tensor,\n",
        "            size=(batch_size, max_length, d_hid)\n",
        "        :return: torch.tensor,\n",
        "            size=(batch_size, max_length, d_hid) \n",
        "        \"\"\"\n",
        "        residual = x\n",
        "        output = self.relu(self.w_1(x.transpose(1, 2)))\n",
        "        output = self.w_2(output).transpose(2, 1)\n",
        "        output = self.dropout(output)\n",
        "        return self.layer_norm(output + residual)"
      ],
      "execution_count": 17,
      "outputs": []
    },
    {
      "metadata": {
        "id": "xzXB_HIVp2bu"
      },
      "cell_type": "markdown",
      "source": [
        "### ④ Masking\n",
        "TransformerではAttentionに対して２つのマスクを定義します。\n",
        "\n",
        "一つはkey側の系列のPADトークンに対してAttentionを行わないようにするマスクです。"
      ]
    },
    {
      "metadata": {
        "id": "amN70mbwp2bv"
      },
      "cell_type": "code",
      "source": [
        "def get_attn_padding_mask(seq_q, seq_k):\n",
        "    \"\"\"\n",
        "    keyのPADに対するattentionを0にするためのマスクを作成する\n",
        "    :param seq_q: tensor, queryの系列, size=(batch_size, len_q)\n",
        "    :param seq_k: tensor, keyの系列, size=(batch_size, len_k)\n",
        "    :return pad_attn_mask: tensor, size=(batch_size, len_q, len_k)\n",
        "    \"\"\"\n",
        "    batch_size, len_q = seq_q.size()\n",
        "    batch_size, len_k = seq_k.size()\n",
        "    pad_attn_mask = seq_k.data.eq(PAD).unsqueeze(1)   # (N, 1, len_k) PAD以外のidを全て0にする\n",
        "    pad_attn_mask = pad_attn_mask.expand(batch_size, len_q, len_k) # (N, len_q, len_k)\n",
        "    return pad_attn_mask"
      ],
      "execution_count": 18,
      "outputs": []
    },
    {
      "metadata": {
        "id": "6HtLq5nop2bz",
        "outputId": "bfb7892c-ea89-4260-e63a-4cacc4c10e15",
        "colab": {
          "base_uri": "https://localhost:8080/"
        }
      },
      "cell_type": "code",
      "source": [
        "_seq_q = torch.tensor([[1, 2, 3]])\n",
        "_seq_k = torch.tensor([[4, 5, 6, 7, PAD]])\n",
        "_mask = get_attn_padding_mask(_seq_q, _seq_k)  # 行がquery、列がkeyに対応し、key側がPAD(=0)の時刻だけ1で他が0の行列ができる\n",
        "print('query:\\n', _seq_q)\n",
        "print('key:\\n', _seq_k)\n",
        "print('mask:\\n', _mask)"
      ],
      "execution_count": 19,
      "outputs": [
        {
          "output_type": "stream",
          "name": "stdout",
          "text": [
            "query:\n",
            " tensor([[1, 2, 3]])\n",
            "key:\n",
            " tensor([[4, 5, 6, 7, 0]])\n",
            "mask:\n",
            " tensor([[[False, False, False, False,  True],\n",
            "         [False, False, False, False,  True],\n",
            "         [False, False, False, False,  True]]])\n"
          ]
        }
      ]
    },
    {
      "metadata": {
        "id": "V5mPZVJ7p2b2"
      },
      "cell_type": "markdown",
      "source": [
        "もう一つはDecoder側でSelf Attentionを行う際に、各時刻で未来の情報に対するAttentionを行わないようにするマスクです。"
      ]
    },
    {
      "metadata": {
        "id": "IW8zvfLcp2b3"
      },
      "cell_type": "code",
      "source": [
        "def get_attn_subsequent_mask(seq):\n",
        "    \"\"\"\n",
        "    未来の情報に対するattentionを0にするためのマスクを作成する\n",
        "    :param seq: tensor, size=(batch_size, length)\n",
        "    :return subsequent_mask: tensor, size=(batch_size, length, length)\n",
        "    \"\"\"\n",
        "    attn_shape = (seq.size(1), seq.size(1))\n",
        "    # 上三角行列(diagonal=1: 対角線より上が1で下が0)\n",
        "    subsequent_mask = torch.triu(torch.ones(attn_shape, dtype=torch.uint8, device=device), diagonal=1)\n",
        "    subsequent_mask = subsequent_mask.repeat(seq.size(0), 1, 1)\n",
        "    return subsequent_mask"
      ],
      "execution_count": 20,
      "outputs": []
    },
    {
      "metadata": {
        "id": "579z_7Krp2b6",
        "outputId": "d6397c6c-5226-4e2a-804f-af96e1f35221",
        "colab": {
          "base_uri": "https://localhost:8080/"
        }
      },
      "cell_type": "code",
      "source": [
        "_seq = torch.tensor([[1,2,3,4]])\n",
        "_mask = get_attn_subsequent_mask(_seq)  # 行がquery、列がkeyに対応し、queryより未来のkeyの値が1で他は0の行列ができいる\n",
        "print('seq:\\n', _seq)\n",
        "print('mask:\\n', _mask)"
      ],
      "execution_count": 21,
      "outputs": [
        {
          "output_type": "stream",
          "name": "stdout",
          "text": [
            "seq:\n",
            " tensor([[1, 2, 3, 4]])\n",
            "mask:\n",
            " tensor([[[0, 1, 1, 1],\n",
            "         [0, 0, 1, 1],\n",
            "         [0, 0, 0, 1],\n",
            "         [0, 0, 0, 0]]], device='cuda:0', dtype=torch.uint8)\n"
          ]
        }
      ]
    },
    {
      "metadata": {
        "id": "RJmM096Bp2b_"
      },
      "cell_type": "markdown",
      "source": [
        "## 3. モデルの定義\n",
        "\n",
        "### Encoder\n",
        "これまで定義してきたサブレイヤーを統合して、Encoderを定義します。\n",
        "\n",
        "EncoderではSelf AttentionとPosition-Wise Feed Forward Networkからなるブロックを複数層繰り返すので、ブロックのクラスEncoderLayerを定義した後にEncoderを定義します。"
      ]
    },
    {
      "metadata": {
        "id": "LtpNJZXxp2cA"
      },
      "cell_type": "code",
      "source": [
        "class EncoderLayer(nn.Module):\n",
        "    \"\"\"Encoderのブロックのクラス\"\"\"\n",
        "    def __init__(self, d_model, d_inner_hid, n_head, d_k, d_v, dropout=0.1):\n",
        "        \"\"\"\n",
        "        :param d_model: int, 隠れ層の次元数\n",
        "        :param d_inner_hid: int, Position Wise Feed Forward Networkの隠れ層2層目の次元数\n",
        "        :param n_head: int,　ヘッド数\n",
        "        :param d_k: int, keyベクトルの次元数\n",
        "        :param d_v: int, valueベクトルの次元数\n",
        "        :param dropout: float, ドロップアウト率\n",
        "        \"\"\"\n",
        "        super(EncoderLayer, self).__init__()\n",
        "        # Encoder内のSelf-Attention\n",
        "        self.slf_attn = MultiHeadAttention(\n",
        "            n_head, d_model, d_k, d_v, dropout=dropout)\n",
        "        # Postionwise FFN\n",
        "        self.pos_ffn = PositionwiseFeedForward(d_model, d_inner_hid, dropout=dropout)\n",
        "\n",
        "    def forward(self, enc_input, slf_attn_mask=None):\n",
        "        \"\"\"\n",
        "        :param enc_input: tensor, Encoderの入力, \n",
        "            size=(batch_size, max_length, d_model)\n",
        "        :param slf_attn_mask: tensor, Self Attentionの行列にかけるマスク, \n",
        "            size=(batch_size, len_q, len_k)\n",
        "        :return enc_output: tensor, Encoderの出力, \n",
        "            size=(batch_size, max_length, d_model)\n",
        "        :return enc_slf_attn: tensor, EncoderのSelf Attentionの行列, \n",
        "            size=(n_head*batch_size, len_q, len_k)\n",
        "        \"\"\"\n",
        "        # Self-Attentionのquery, key, valueにはすべてEncoderの入力（enc_input）が入る\n",
        "        enc_output, enc_slf_attn = self.slf_attn(\n",
        "            enc_input, enc_input, enc_input, attn_mask=slf_attn_mask)\n",
        "        enc_output = self.pos_ffn(enc_output)\n",
        "        return enc_output, enc_slf_attn"
      ],
      "execution_count": 22,
      "outputs": []
    },
    {
      "metadata": {
        "id": "MHrEiFeEp2cF"
      },
      "cell_type": "code",
      "source": [
        "class Encoder(nn.Module):\n",
        "    \"\"\"EncoderLayerブロックからなるEncoderのクラス\"\"\"\n",
        "    def __init__(\n",
        "            self, n_src_vocab, max_length, n_layers=6, n_head=8, d_k=64, d_v=64,\n",
        "            d_word_vec=512, d_model=512, d_inner_hid=1024, dropout=0.1):\n",
        "        \"\"\"\n",
        "        :param n_src_vocab: int, 入力言語の語彙数\n",
        "        :param max_length: int, 最大系列長\n",
        "        :param n_layers: int, レイヤー数\n",
        "        :param n_head: int,　ヘッド数\n",
        "        :param d_k: int, keyベクトルの次元数\n",
        "        :param d_v: int, valueベクトルの次元数\n",
        "        :param d_word_vec: int, 単語の埋め込みの次元数\n",
        "        :param d_model: int, 隠れ層の次元数\n",
        "        :param d_inner_hid: int, Position Wise Feed Forward Networkの隠れ層2層目の次元数\n",
        "        :param dropout: float, ドロップアウト率        \n",
        "        \"\"\"\n",
        "        super(Encoder, self).__init__()\n",
        "\n",
        "        n_position = max_length + 1\n",
        "        self.max_length = max_length\n",
        "        self.d_model = d_model\n",
        "\n",
        "        # Positional Encodingを用いたEmbedding\n",
        "        self.position_enc = nn.Embedding(n_position, d_word_vec, padding_idx=PAD)\n",
        "        self.position_enc.weight.data = position_encoding_init(n_position, d_word_vec)\n",
        "\n",
        "        # 一般的なEmbedding\n",
        "        self.src_word_emb = nn.Embedding(n_src_vocab, d_word_vec, padding_idx=PAD)\n",
        "\n",
        "        # EncoderLayerをn_layers個積み重ねる\n",
        "        self.layer_stack = nn.ModuleList([\n",
        "            EncoderLayer(d_model, d_inner_hid, n_head, d_k, d_v, dropout=dropout)\n",
        "            for _ in range(n_layers)])\n",
        "\n",
        "    def forward(self, src_seq, src_pos):\n",
        "        \"\"\"\n",
        "        :param src_seq: tensor, 入力系列, \n",
        "            size=(batch_size, max_length)\n",
        "        :param src_pos: tensor, 入力系列の各単語の位置情報,\n",
        "            size=(batch_size, max_length)\n",
        "        :return enc_output: tensor, Encoderの最終出力, \n",
        "            size=(batch_size, max_length, d_model)\n",
        "        :return enc_slf_attns: list, EncoderのSelf Attentionの行列のリスト\n",
        "        \"\"\"\n",
        "        # 一般的な単語のEmbeddingを行う\n",
        "        enc_input = self.src_word_emb(src_seq)\n",
        "        # Positional EncodingのEmbeddingを加算する\n",
        "        enc_input += self.position_enc(src_pos)\n",
        "\n",
        "        enc_slf_attns = []\n",
        "        enc_output = enc_input\n",
        "        # key(=enc_input)のPADに対応する部分のみ1のマスクを作成\n",
        "        enc_slf_attn_mask = get_attn_padding_mask(src_seq, src_seq)\n",
        "\n",
        "        # n_layers個のEncoderLayerに入力を通す\n",
        "        for enc_layer in self.layer_stack:\n",
        "            enc_output, enc_slf_attn = enc_layer(\n",
        "                enc_output, slf_attn_mask=enc_slf_attn_mask)\n",
        "            enc_slf_attns += [enc_slf_attn]\n",
        "\n",
        "        return enc_output, enc_slf_attns"
      ],
      "execution_count": 23,
      "outputs": []
    },
    {
      "metadata": {
        "id": "K4uxRtsWp2cI"
      },
      "cell_type": "markdown",
      "source": [
        "### Decoder\n",
        "\n",
        "Deocoderも同様にSelf Attention, Source-Target Attention, Position-Wise Feed Forward Networkからなるブロックを複数層繰り返ので、ブロックのクラスDecoderLayerを定義した後にDecoderを定義します。"
      ]
    },
    {
      "metadata": {
        "id": "2WFWRsXYp2cJ"
      },
      "cell_type": "code",
      "source": [
        "class DecoderLayer(nn.Module):\n",
        "    \"\"\"Decoderのブロックのクラス\"\"\"\n",
        "    def __init__(self, d_model, d_inner_hid, n_head, d_k, d_v, dropout=0.1):\n",
        "        \"\"\"\n",
        "        :param d_model: int, 隠れ層の次元数\n",
        "        :param d_inner_hid: int, Position Wise Feed Forward Networkの隠れ層2層目の次元数\n",
        "        :param n_head: int,　ヘッド数\n",
        "        :param d_k: int, keyベクトルの次元数\n",
        "        :param d_v: int, valueベクトルの次元数\n",
        "        :param dropout: float, ドロップアウト率\n",
        "        \"\"\"\n",
        "        super(DecoderLayer, self).__init__()\n",
        "        # Decoder内のSelf-Attention\n",
        "        self.slf_attn = MultiHeadAttention(n_head, d_model, d_k, d_v, dropout=dropout)\n",
        "        # Encoder-Decoder間のSource-Target Attention\n",
        "        self.enc_attn = MultiHeadAttention(n_head, d_model, d_k, d_v, dropout=dropout)\n",
        "        # Positionwise FFN\n",
        "        self.pos_ffn = PositionwiseFeedForward(d_model, d_inner_hid, dropout=dropout)\n",
        "\n",
        "    def forward(self, dec_input, enc_output, slf_attn_mask=None, dec_enc_attn_mask=None):\n",
        "        \"\"\"\n",
        "        :param dec_input: tensor, Decoderの入力, \n",
        "            size=(batch_size, max_length, d_model)\n",
        "        :param enc_output: tensor, Encoderの出力, \n",
        "            size=(batch_size, max_length, d_model)\n",
        "        :param slf_attn_mask: tensor, Self Attentionの行列にかけるマスク, \n",
        "            size=(batch_size, len_q, len_k)\n",
        "        :param dec_enc_attn_mask: tensor, Soutce-Target Attentionの行列にかけるマスク, \n",
        "            size=(batch_size, len_q, len_k)\n",
        "        :return dec_output: tensor, Decoderの出力, \n",
        "            size=(batch_size, max_length, d_model)\n",
        "        :return dec_slf_attn: tensor, DecoderのSelf Attentionの行列, \n",
        "            size=(n_head*batch_size, len_q, len_k)\n",
        "        :return dec_enc_attn: tensor, DecoderのSoutce-Target Attentionの行列, \n",
        "            size=(n_head*batch_size, len_q, len_k)\n",
        "        \"\"\"\n",
        "        # Self-Attentionのquery, key, valueにはすべてDecoderの入力（dec_input）が入る\n",
        "        dec_output, dec_slf_attn = self.slf_attn(\n",
        "            dec_input, dec_input, dec_input, attn_mask=slf_attn_mask)\n",
        "        # Source-Target-AttentionのqueryにはDecoderの出力(dec_output), key, valueにはEncoderの出力（enc_output）が入る\n",
        "        dec_output, dec_enc_attn = self.enc_attn(\n",
        "            dec_output, enc_output, enc_output, attn_mask=dec_enc_attn_mask)\n",
        "        dec_output = self.pos_ffn(dec_output)\n",
        "\n",
        "        return dec_output, dec_slf_attn, dec_enc_attn"
      ],
      "execution_count": 24,
      "outputs": []
    },
    {
      "metadata": {
        "id": "cnBteVrjp2cL"
      },
      "cell_type": "code",
      "source": [
        "class Decoder(nn.Module):\n",
        "    \"\"\"DecoderLayerブロックからなるDecoderのクラス\"\"\"\n",
        "    def __init__(\n",
        "            self, n_tgt_vocab, max_length, n_layers=6, n_head=8, d_k=64, d_v=64,\n",
        "            d_word_vec=512, d_model=512, d_inner_hid=1024, dropout=0.1):\n",
        "        \"\"\"\n",
        "        :param n_tgt_vocab: int, 出力言語の語彙数\n",
        "        :param max_length: int, 最大系列長\n",
        "        :param n_layers: int, レイヤー数\n",
        "        :param n_head: int,　ヘッド数\n",
        "        :param d_k: int, keyベクトルの次元数\n",
        "        :param d_v: int, valueベクトルの次元数\n",
        "        :param d_word_vec: int, 単語の埋め込みの次元数\n",
        "        :param d_model: int, 隠れ層の次元数\n",
        "        :param d_inner_hid: int, Position Wise Feed Forward Networkの隠れ層2層目の次元数\n",
        "        :param dropout: float, ドロップアウト率        \n",
        "        \"\"\"\n",
        "        super(Decoder, self).__init__()\n",
        "        n_position = max_length + 1\n",
        "        self.max_length = max_length\n",
        "        self.d_model = d_model\n",
        "\n",
        "        # Positional Encodingを用いたEmbedding\n",
        "        self.position_enc = nn.Embedding(\n",
        "            n_position, d_word_vec, padding_idx=PAD)\n",
        "        self.position_enc.weight.data = position_encoding_init(n_position, d_word_vec)\n",
        "\n",
        "        # 一般的なEmbedding\n",
        "        self.tgt_word_emb = nn.Embedding(\n",
        "            n_tgt_vocab, d_word_vec, padding_idx=PAD)\n",
        "        self.dropout = nn.Dropout(dropout)\n",
        "\n",
        "        # DecoderLayerをn_layers個積み重ねる\n",
        "        self.layer_stack = nn.ModuleList([\n",
        "            DecoderLayer(d_model, d_inner_hid, n_head, d_k, d_v, dropout=dropout)\n",
        "            for _ in range(n_layers)])\n",
        "\n",
        "    def forward(self, tgt_seq, tgt_pos, src_seq, enc_output):\n",
        "        \"\"\"\n",
        "        :param tgt_seq: tensor, 出力系列, \n",
        "            size=(batch_size, max_length)\n",
        "        :param tgt_pos: tensor, 出力系列の各単語の位置情報,\n",
        "            size=(batch_size, max_length)\n",
        "        :param src_seq: tensor, 入力系列, \n",
        "            size=(batch_size, n_src_vocab)\n",
        "        :param enc_output: tensor, Encoderの出力, \n",
        "            size=(batch_size, max_length, d_model)\n",
        "        :return dec_output: tensor, Decoderの最終出力, \n",
        "            size=(batch_size, max_length, d_model)\n",
        "        :return dec_slf_attns: list, DecoderのSelf Attentionの行列のリスト \n",
        "        :return dec_slf_attns: list, DecoderのSelf Attentionの行列のリスト\n",
        "        \"\"\"\n",
        "        # 一般的な単語のEmbeddingを行う\n",
        "        dec_input = self.tgt_word_emb(tgt_seq)\n",
        "        # Positional EncodingのEmbeddingを加算する\n",
        "        dec_input += self.position_enc(tgt_pos)\n",
        "\n",
        "        # Self-Attention用のマスクを作成\n",
        "        # key(=dec_input)のPADに対応する部分が1のマスクと、queryから見たkeyの未来の情報に対応する部分が1のマスクのORをとる\n",
        "        dec_slf_attn_pad_mask = get_attn_padding_mask(tgt_seq, tgt_seq)  # (N, max_length, max_length)\n",
        "        dec_slf_attn_sub_mask = get_attn_subsequent_mask(tgt_seq)  # (N, max_length, max_length)\n",
        "        dec_slf_attn_mask = torch.gt(dec_slf_attn_pad_mask + dec_slf_attn_sub_mask, 0)  # ORをとる\n",
        "\n",
        "        # key(=dec_input)のPADに対応する部分のみ1のマスクを作成\n",
        "        dec_enc_attn_pad_mask = get_attn_padding_mask(tgt_seq, src_seq)  # (N, max_length, max_length)\n",
        "\n",
        "        dec_slf_attns, dec_enc_attns = [], []\n",
        "\n",
        "        dec_output = dec_input\n",
        "        # n_layers個のDecoderLayerに入力を通す\n",
        "        for dec_layer in self.layer_stack:\n",
        "            dec_output, dec_slf_attn, dec_enc_attn = dec_layer(\n",
        "                dec_output, enc_output,\n",
        "                slf_attn_mask=dec_slf_attn_mask,\n",
        "                dec_enc_attn_mask=dec_enc_attn_pad_mask)\n",
        "\n",
        "            dec_slf_attns += [dec_slf_attn]\n",
        "            dec_enc_attns += [dec_enc_attn]\n",
        "\n",
        "        return dec_output, dec_slf_attns, dec_enc_attns"
      ],
      "execution_count": 25,
      "outputs": []
    },
    {
      "metadata": {
        "id": "uGZTXI2xp2cN"
      },
      "cell_type": "code",
      "source": [
        "class Transformer(nn.Module):\n",
        "    \"\"\"Transformerのモデル全体のクラス\"\"\"\n",
        "    def __init__(\n",
        "            self, n_src_vocab, n_tgt_vocab, max_length, n_layers=6, n_head=8,\n",
        "            d_word_vec=512, d_model=512, d_inner_hid=1024, d_k=64, d_v=64,\n",
        "            dropout=0.1, proj_share_weight=True):\n",
        "        \"\"\"\n",
        "        :param n_src_vocab: int, 入力言語の語彙数\n",
        "        :param n_tgt_vocab: int, 出力言語の語彙数\n",
        "        :param max_length: int, 最大系列長\n",
        "        :param n_layers: int, レイヤー数\n",
        "        :param n_head: int,　ヘッド数\n",
        "        :param d_k: int, keyベクトルの次元数\n",
        "        :param d_v: int, valueベクトルの次元数\n",
        "        :param d_word_vec: int, 単語の埋め込みの次元数\n",
        "        :param d_model: int, 隠れ層の次元数\n",
        "        :param d_inner_hid: int, Position Wise Feed Forward Networkの隠れ層2層目の次元数\n",
        "        :param dropout: float, ドロップアウト率        \n",
        "        :param proj_share_weight: bool, 出力言語の単語のEmbeddingと出力の写像で重みを共有する        \n",
        "        \"\"\"\n",
        "        super(Transformer, self).__init__()\n",
        "        self.encoder = Encoder(\n",
        "            n_src_vocab, max_length, n_layers=n_layers, n_head=n_head,\n",
        "            d_word_vec=d_word_vec, d_model=d_model,\n",
        "            d_inner_hid=d_inner_hid, dropout=dropout)\n",
        "        self.decoder = Decoder(\n",
        "            n_tgt_vocab, max_length, n_layers=n_layers, n_head=n_head,\n",
        "            d_word_vec=d_word_vec, d_model=d_model,\n",
        "            d_inner_hid=d_inner_hid, dropout=dropout)\n",
        "        self.tgt_word_proj = nn.Linear(d_model, n_tgt_vocab, bias=False)\n",
        "        nn.init.xavier_normal_(self.tgt_word_proj.weight)\n",
        "        self.dropout = nn.Dropout(dropout)\n",
        "\n",
        "        assert d_model == d_word_vec  # 各モジュールの出力のサイズは揃える\n",
        "\n",
        "        if proj_share_weight:\n",
        "            # 出力言語の単語のEmbeddingと出力の写像で重みを共有する\n",
        "            assert d_model == d_word_vec\n",
        "            self.tgt_word_proj.weight = self.decoder.tgt_word_emb.weight\n",
        "\n",
        "    def get_trainable_parameters(self):\n",
        "        # Positional Encoding以外のパラメータを更新する\n",
        "        enc_freezed_param_ids = set(map(id, self.encoder.position_enc.parameters()))\n",
        "        dec_freezed_param_ids = set(map(id, self.decoder.position_enc.parameters()))\n",
        "        freezed_param_ids = enc_freezed_param_ids | dec_freezed_param_ids\n",
        "        return (p for p in self.parameters() if id(p) not in freezed_param_ids)\n",
        "\n",
        "    def forward(self, src, tgt):\n",
        "        src_seq, src_pos = src\n",
        "        tgt_seq, tgt_pos = tgt\n",
        "\n",
        "        src_seq = src_seq[:, 1:]\n",
        "        src_pos = src_pos[:, 1:]\n",
        "        tgt_seq = tgt_seq[:, :-1]\n",
        "        tgt_pos = tgt_pos[:, :-1]\n",
        "\n",
        "        enc_output, *_ = self.encoder(src_seq, src_pos)\n",
        "        dec_output, *_ = self.decoder(tgt_seq, tgt_pos, src_seq, enc_output)\n",
        "        seq_logit = self.tgt_word_proj(dec_output)\n",
        "\n",
        "        return seq_logit"
      ],
      "execution_count": 26,
      "outputs": []
    },
    {
      "metadata": {
        "id": "5iO0SDdJp2cQ"
      },
      "cell_type": "markdown",
      "source": [
        "## 4. 学習"
      ]
    },
    {
      "metadata": {
        "id": "qRsUUhMup2cR"
      },
      "cell_type": "code",
      "source": [
        "def compute_loss(batch_X, batch_Y, model, criterion, optimizer=None, is_train=True):\n",
        "    # バッチの損失を計算\n",
        "    model.train(is_train)\n",
        "    \n",
        "    pred_Y = model(batch_X, batch_Y)\n",
        "    gold = batch_Y[0][:, 1:].contiguous()\n",
        "#     gold = batch_Y[0].contiguous()\n",
        "    loss = criterion(pred_Y.view(-1, pred_Y.size(2)), gold.view(-1))\n",
        "\n",
        "    if is_train:  # 訓練時はパラメータを更新\n",
        "        optimizer.zero_grad()\n",
        "        loss.backward()\n",
        "        optimizer.step()\n",
        "\n",
        "    gold = gold.data.cpu().numpy().tolist()\n",
        "    pred = pred_Y.max(dim=-1)[1].data.cpu().numpy().tolist()\n",
        "\n",
        "    return loss.item(), gold, pred"
      ],
      "execution_count": 27,
      "outputs": []
    },
    {
      "metadata": {
        "id": "gVeXwSp3p2cW"
      },
      "cell_type": "code",
      "source": [
        "MAX_LENGTH = 20\n",
        "batch_size = 64\n",
        "num_epochs = 15\n",
        "lr = 0.001\n",
        "ckpt_path = 'transformer.pth'\n",
        "max_length = MAX_LENGTH + 2"
      ],
      "execution_count": 28,
      "outputs": []
    },
    {
      "metadata": {
        "id": "B5UNWBmSp2cY"
      },
      "cell_type": "code",
      "source": [
        "model_args = {\n",
        "    'n_src_vocab': vocab_size_X,\n",
        "    'n_tgt_vocab': vocab_size_Y,\n",
        "    'max_length': max_length,\n",
        "    'proj_share_weight': True,\n",
        "    'd_k': 32,\n",
        "    'd_v': 32,\n",
        "    'd_model': 128,\n",
        "    'd_word_vec': 128,\n",
        "    'd_inner_hid': 256,\n",
        "    'n_layers': 3,\n",
        "    'n_head': 6,\n",
        "    'dropout': 0.1,\n",
        "}"
      ],
      "execution_count": 29,
      "outputs": []
    },
    {
      "metadata": {
        "id": "4grdni3dp2ca",
        "outputId": "b5089a13-436a-4d92-cb0b-59458a399b1a",
        "colab": {
          "base_uri": "https://localhost:8080/"
        }
      },
      "cell_type": "code",
      "source": [
        "# DataLoaderやモデルを定義\n",
        "train_dataloader = DataLoader(\n",
        "    train_X, train_Y, batch_size\n",
        "    )\n",
        "valid_dataloader = DataLoader(\n",
        "    valid_X, valid_Y, batch_size, \n",
        "    shuffle=False\n",
        "    )\n",
        "\n",
        "model = Transformer(**model_args).to(device)\n",
        "\n",
        "optimizer = optim.Adam(model.get_trainable_parameters(), lr=lr)\n",
        "\n",
        "criterion = nn.CrossEntropyLoss(ignore_index=PAD, size_average=False).to(device)"
      ],
      "execution_count": 30,
      "outputs": [
        {
          "output_type": "stream",
          "name": "stderr",
          "text": [
            "/usr/local/lib/python3.10/dist-packages/torch/nn/_reduction.py:42: UserWarning: size_average and reduce args will be deprecated, please use reduction='sum' instead.\n",
            "  warnings.warn(warning.format(ret))\n"
          ]
        }
      ]
    },
    {
      "metadata": {
        "id": "SnHO46bip2cd"
      },
      "cell_type": "code",
      "source": [
        "def calc_bleu(refs, hyps):\n",
        "    \"\"\"\n",
        "    BLEUスコアを計算する関数\n",
        "    :param refs: list, 参照訳。単語のリストのリスト (例： [['I', 'have', 'a', 'pen'], ...])\n",
        "    :param hyps: list, モデルの生成した訳。単語のリストのリスト (例： [['I', 'have', 'a', 'pen'], ...])\n",
        "    :return: float, BLEUスコア(0~100)\n",
        "    \"\"\"\n",
        "    refs = [[ref[:ref.index(EOS)]] for ref in refs]\n",
        "    hyps = [hyp[:hyp.index(EOS)] if EOS in hyp else hyp for hyp in hyps]\n",
        "    return 100 * bleu_score.corpus_bleu(refs, hyps)"
      ],
      "execution_count": 31,
      "outputs": []
    },
    {
      "metadata": {
        "id": "v5jKt9aop2cf",
        "outputId": "f2973b84-a32a-4abb-f41c-fc94f9229d14",
        "colab": {
          "base_uri": "https://localhost:8080/"
        }
      },
      "cell_type": "code",
      "source": [
        "# 訓練\n",
        "best_valid_bleu = 0.\n",
        "\n",
        "for epoch in range(1, num_epochs+1):\n",
        "    start = time.time()\n",
        "    train_loss = 0.\n",
        "    train_refs = []\n",
        "    train_hyps = []\n",
        "    valid_loss = 0.\n",
        "    valid_refs = []\n",
        "    valid_hyps = []\n",
        "    # train\n",
        "    for batch in train_dataloader:\n",
        "        batch_X, batch_Y = batch\n",
        "        loss, gold, pred = compute_loss(\n",
        "            batch_X, batch_Y, model, criterion, optimizer, is_train=True\n",
        "            )\n",
        "        train_loss += loss\n",
        "        train_refs += gold\n",
        "        train_hyps += pred\n",
        "    # valid\n",
        "    for batch in valid_dataloader:\n",
        "        batch_X, batch_Y = batch\n",
        "        loss, gold, pred = compute_loss(\n",
        "            batch_X, batch_Y, model, criterion, is_train=False\n",
        "            )\n",
        "        valid_loss += loss\n",
        "        valid_refs += gold\n",
        "        valid_hyps += pred\n",
        "    # 損失をサンプル数で割って正規化\n",
        "    train_loss /= len(train_dataloader.data) \n",
        "    valid_loss /= len(valid_dataloader.data) \n",
        "    # BLEUを計算\n",
        "    train_bleu = calc_bleu(train_refs, train_hyps)\n",
        "    valid_bleu = calc_bleu(valid_refs, valid_hyps)\n",
        "\n",
        "    # validationデータでBLEUが改善した場合にはモデルを保存\n",
        "    if valid_bleu > best_valid_bleu:\n",
        "        ckpt = model.state_dict()\n",
        "        torch.save(ckpt, ckpt_path)\n",
        "        best_valid_bleu = valid_bleu\n",
        "\n",
        "    elapsed_time = (time.time()-start) / 60\n",
        "    print('Epoch {} [{:.1f}min]: train_loss: {:5.2f}  train_bleu: {:2.2f}  valid_loss: {:5.2f}  valid_bleu: {:2.2f}'.format(\n",
        "            epoch, elapsed_time, train_loss, train_bleu, valid_loss, valid_bleu))\n",
        "    print('-'*80)"
      ],
      "execution_count": 32,
      "outputs": [
        {
          "output_type": "stream",
          "name": "stdout",
          "text": [
            "Epoch 1 [0.5min]: train_loss: 77.37  train_bleu: 4.68  valid_loss: 41.18  valid_bleu: 10.48\n",
            "--------------------------------------------------------------------------------\n",
            "Epoch 2 [0.3min]: train_loss: 39.44  train_bleu: 12.18  valid_loss: 32.35  valid_bleu: 17.42\n",
            "--------------------------------------------------------------------------------\n",
            "Epoch 3 [0.4min]: train_loss: 32.11  train_bleu: 17.98  valid_loss: 28.07  valid_bleu: 22.15\n",
            "--------------------------------------------------------------------------------\n",
            "Epoch 4 [0.3min]: train_loss: 28.33  train_bleu: 21.71  valid_loss: 25.82  valid_bleu: 25.01\n",
            "--------------------------------------------------------------------------------\n",
            "Epoch 5 [0.3min]: train_loss: 25.84  train_bleu: 24.43  valid_loss: 24.33  valid_bleu: 27.11\n",
            "--------------------------------------------------------------------------------\n",
            "Epoch 6 [0.4min]: train_loss: 23.99  train_bleu: 26.71  valid_loss: 23.00  valid_bleu: 29.07\n",
            "--------------------------------------------------------------------------------\n",
            "Epoch 7 [0.3min]: train_loss: 22.55  train_bleu: 28.57  valid_loss: 22.15  valid_bleu: 30.44\n",
            "--------------------------------------------------------------------------------\n",
            "Epoch 8 [0.3min]: train_loss: 21.35  train_bleu: 30.13  valid_loss: 21.60  valid_bleu: 31.17\n",
            "--------------------------------------------------------------------------------\n",
            "Epoch 9 [0.4min]: train_loss: 20.33  train_bleu: 31.58  valid_loss: 20.98  valid_bleu: 31.81\n",
            "--------------------------------------------------------------------------------\n",
            "Epoch 10 [0.4min]: train_loss: 19.42  train_bleu: 32.84  valid_loss: 20.45  valid_bleu: 32.85\n",
            "--------------------------------------------------------------------------------\n",
            "Epoch 11 [0.3min]: train_loss: 18.67  train_bleu: 33.86  valid_loss: 20.03  valid_bleu: 33.37\n",
            "--------------------------------------------------------------------------------\n",
            "Epoch 12 [0.4min]: train_loss: 17.90  train_bleu: 35.17  valid_loss: 19.71  valid_bleu: 33.96\n",
            "--------------------------------------------------------------------------------\n",
            "Epoch 13 [0.4min]: train_loss: 17.27  train_bleu: 36.04  valid_loss: 19.28  valid_bleu: 35.03\n",
            "--------------------------------------------------------------------------------\n",
            "Epoch 14 [0.3min]: train_loss: 16.71  train_bleu: 36.85  valid_loss: 19.26  valid_bleu: 35.28\n",
            "--------------------------------------------------------------------------------\n",
            "Epoch 15 [0.4min]: train_loss: 16.18  train_bleu: 37.81  valid_loss: 19.11  valid_bleu: 35.78\n",
            "--------------------------------------------------------------------------------\n"
          ]
        }
      ]
    },
    {
      "metadata": {
        "id": "yVbfslwXp2ch"
      },
      "cell_type": "markdown",
      "source": [
        "## 5. 評価"
      ]
    },
    {
      "metadata": {
        "id": "kVsIBMSpp2ck"
      },
      "cell_type": "code",
      "source": [
        "def test(model, src, max_length=20):\n",
        "    # 学習済みモデルで系列を生成する\n",
        "    model.eval()\n",
        "    \n",
        "    src_seq, src_pos = src\n",
        "    batch_size = src_seq.size(0)\n",
        "    enc_output, enc_slf_attns = model.encoder(src_seq, src_pos)\n",
        "        \n",
        "    tgt_seq = torch.full([batch_size, 1], BOS, dtype=torch.long, device=device)\n",
        "    tgt_pos = torch.arange(1, dtype=torch.long, device=device)\n",
        "    tgt_pos = tgt_pos.unsqueeze(0).repeat(batch_size, 1)\n",
        "\n",
        "    # 時刻ごとに処理\n",
        "    for t in range(1, max_length+1):\n",
        "        dec_output, dec_slf_attns, dec_enc_attns = model.decoder(\n",
        "            tgt_seq, tgt_pos, src_seq, enc_output)\n",
        "        dec_output = model.tgt_word_proj(dec_output)\n",
        "        out = dec_output[:, -1, :].max(dim=-1)[1].unsqueeze(1)\n",
        "        # 自身の出力を次の時刻の入力にする\n",
        "        tgt_seq = torch.cat([tgt_seq, out], dim=-1)\n",
        "        tgt_pos = torch.arange(t+1, dtype=torch.long, device=device)\n",
        "        tgt_pos = tgt_pos.unsqueeze(0).repeat(batch_size, 1)\n",
        "\n",
        "    return tgt_seq[:, 1:], enc_slf_attns, dec_slf_attns, dec_enc_attns"
      ],
      "execution_count": 33,
      "outputs": []
    },
    {
      "metadata": {
        "id": "mvsDBT7Up2ct"
      },
      "cell_type": "code",
      "source": [
        "def ids_to_sentence(vocab, ids):\n",
        "    # IDのリストを単語のリストに変換する\n",
        "    return [vocab.id2word[_id] for _id in ids]\n",
        "\n",
        "def trim_eos(ids):\n",
        "    # IDのリストからEOS以降の単語を除外する\n",
        "    if EOS in ids:\n",
        "        return ids[:ids.index(EOS)]\n",
        "    else:\n",
        "        return ids"
      ],
      "execution_count": 34,
      "outputs": []
    },
    {
      "metadata": {
        "id": "Lf7c2Hglp2c1",
        "colab": {
          "base_uri": "https://localhost:8080/"
        },
        "outputId": "c74cf43c-9f51-487c-ac6b-9ed4b94e2f82"
      },
      "cell_type": "code",
      "source": [
        "# 学習済みモデルの読み込み\n",
        "model = Transformer(**model_args).to(device)\n",
        "ckpt = torch.load(ckpt_path)\n",
        "model.load_state_dict(ckpt)"
      ],
      "execution_count": 35,
      "outputs": [
        {
          "output_type": "execute_result",
          "data": {
            "text/plain": [
              "<All keys matched successfully>"
            ]
          },
          "metadata": {},
          "execution_count": 35
        }
      ]
    },
    {
      "metadata": {
        "id": "Xd9DvONGp2c3"
      },
      "cell_type": "code",
      "source": [
        "# テストデータの読み込み\n",
        "test_X = load_data('./data/dev.en')\n",
        "test_Y = load_data('./data/dev.ja')\n",
        "test_X = [sentence_to_ids(vocab_X, sentence) for sentence in test_X]\n",
        "test_Y = [sentence_to_ids(vocab_Y, sentence) for sentence in test_Y]"
      ],
      "execution_count": 36,
      "outputs": []
    },
    {
      "metadata": {
        "id": "xvFexG80p2c6"
      },
      "cell_type": "markdown",
      "source": [
        "### 生成"
      ]
    },
    {
      "metadata": {
        "id": "4CTH8DSyp2c8"
      },
      "cell_type": "code",
      "source": [
        "test_dataloader = DataLoader(\n",
        "    test_X, test_Y, 1,\n",
        "    shuffle=False\n",
        "    )"
      ],
      "execution_count": 37,
      "outputs": []
    },
    {
      "metadata": {
        "id": "-pelUkHkp2c_",
        "outputId": "0bf9f9fd-b7f0-48a2-be57-2c7479893e5a",
        "colab": {
          "base_uri": "https://localhost:8080/"
        }
      },
      "cell_type": "code",
      "source": [
        "src, tgt = next(test_dataloader)\n",
        "\n",
        "src_ids = src[0][0].cpu().numpy()\n",
        "tgt_ids = tgt[0][0].cpu().numpy()\n",
        "\n",
        "print('src: {}'.format(' '.join(ids_to_sentence(vocab_X, src_ids[1:-1]))))\n",
        "print('tgt: {}'.format(' '.join(ids_to_sentence(vocab_Y, tgt_ids[1:-1]))))\n",
        "\n",
        "preds, enc_slf_attns, dec_slf_attns, dec_enc_attns = test(model, src)\n",
        "pred_ids = preds[0].data.cpu().numpy().tolist()\n",
        "print('out: {}'.format(' '.join(ids_to_sentence(vocab_Y, trim_eos(pred_ids)))))"
      ],
      "execution_count": 38,
      "outputs": [
        {
          "output_type": "stream",
          "name": "stdout",
          "text": [
            "src: show your own business .\n",
            "tgt: 自分 の 事 を しろ 。\n",
            "out: 自分 の <UNK> は 自分 の <UNK> に な っ た 。\n"
          ]
        }
      ]
    },
    {
      "metadata": {
        "id": "F175okKMp2dC"
      },
      "cell_type": "markdown",
      "source": [
        "## BLEUの評価"
      ]
    },
    {
      "metadata": {
        "id": "Q1MNLkgfp2dD",
        "outputId": "39d823ef-3fdb-44ca-89ff-fa05eb1c32e8",
        "colab": {
          "base_uri": "https://localhost:8080/"
        }
      },
      "cell_type": "code",
      "source": [
        "# BLEUの評価\n",
        "test_dataloader = DataLoader(\n",
        "    test_X, test_Y, 128,\n",
        "    shuffle=False\n",
        "    )\n",
        "refs_list = []\n",
        "hyp_list = []\n",
        "\n",
        "for batch in test_dataloader:\n",
        "    batch_X, batch_Y = batch\n",
        "    preds, *_ = test(model, batch_X)\n",
        "    preds = preds.data.cpu().numpy().tolist()\n",
        "    refs = batch_Y[0].data.cpu().numpy()[:, 1:].tolist()\n",
        "    refs_list += refs\n",
        "    hyp_list += preds\n",
        "bleu = calc_bleu(refs_list, hyp_list)\n",
        "print(bleu)"
      ],
      "execution_count": 39,
      "outputs": [
        {
          "output_type": "stream",
          "name": "stdout",
          "text": [
            "26.829151913387893\n"
          ]
        }
      ]
    },
    {
      "metadata": {
        "id": "rkG_UPpCp2dL"
      },
      "cell_type": "code",
      "source": [],
      "execution_count": 39,
      "outputs": []
    }
  ]
}