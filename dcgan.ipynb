{
  "cells": [
    {
      "cell_type": "markdown",
      "metadata": {
        "id": "view-in-github",
        "colab_type": "text"
      },
      "source": [
        "<a href=\"https://colab.research.google.com/github/ffalo64/rabbit_challenge/blob/main/dcgan.ipynb\" target=\"_parent\"><img src=\"https://colab.research.google.com/assets/colab-badge.svg\" alt=\"Open In Colab\"/></a>"
      ]
    },
    {
      "cell_type": "markdown",
      "source": [
        "# 準備"
      ],
      "metadata": {
        "id": "Fr35RhCb36q6"
      }
    },
    {
      "cell_type": "markdown",
      "source": [
        "## Google Colab 用の処理\n",
        "\n",
        "下記を実行します\n",
        "- ドライブのマウント\n",
        "- ノートブックファイルと同じフォルダへの移動 \n",
        "\n",
        "Googleドライブのマイドライブ を基準に DNN_code/DNN_code_colab_day4 フォルダを置くことを仮定しています。必要に応じて，パスを変更してください．"
      ],
      "metadata": {
        "id": "LLYLr8oA3_gK"
      }
    },
    {
      "cell_type": "code",
      "execution_count": 1,
      "source": [
        "# Google Colab での実行かを調べる\n",
        "import sys\n",
        "import os\n",
        "ENV_COLAB = True  if 'google.colab' in sys.modules else False \n",
        "\n",
        "# google drive のマウント\n",
        "if ENV_COLAB:\n",
        "  from google.colab import drive \n",
        "  drive.mount('/content/drive')\n",
        "  os.chdir('/content/drive/My Drive/DNN_code/DNN_code_colab_day4/notebook/4_10_code_dcgan')"
      ],
      "outputs": [
        {
          "output_type": "stream",
          "name": "stdout",
          "text": [
            "Mounted at /content/drive\n"
          ]
        }
      ],
      "metadata": {
        "colab": {
          "base_uri": "https://localhost:8080/"
        },
        "id": "19zGodGt4JEl",
        "outputId": "672c4975-8d82-4aa4-ff7a-27b7f5d3e783"
      }
    },
    {
      "cell_type": "markdown",
      "source": [
        "# DCGAN による画像生成"
      ],
      "metadata": {
        "id": "iaDN2a554Dq9"
      }
    },
    {
      "cell_type": "code",
      "execution_count": 2,
      "source": [
        "import glob\n",
        "from pathlib import Path\n",
        "\n",
        "import numpy as np\n",
        "from PIL import Image\n",
        "\n",
        "from model_dcgan import DCGAN\n"
      ],
      "outputs": [],
      "metadata": {
        "id": "kfXtXsB7iEAg"
      }
    },
    {
      "cell_type": "code",
      "execution_count": 20,
      "source": [
        "def convert_img_to_npy(\n",
        "    img_dir=\"./img_data\", cond=\"*.png\", save_path=\"./train_data/train_data\"\n",
        "    ):\n",
        "    \"\"\"画像ファイル群を学習データ用にnumpy形式に変換する関数\n",
        "    学習データが既にあれば実行する必要無し\n",
        "\n",
        "    Args:\n",
        "        img_dir (str): 画像ファイルがあるフォルダ. Defaults to \"./img_data\".\n",
        "        cond (str): 変換する画像の条件. Defaults to \"*.png\".\n",
        "        save_path (str): 変換後の保存先. Defaults to \"./train_data/train_data\".\n",
        "    \"\"\"\n",
        "    dataset = []\n",
        "    img_path = str(Path(img_dir) / cond)\n",
        "    print(\"Loading Image Data from \" + img_dir)\n",
        "    for idx, img_path in enumerate(glob.glob(img_path)):\n",
        "        # (height,width,channels)\n",
        "        img_data = Image.open(img_path)\n",
        "        print(str(idx) + \" data loaded\")\n",
        "        # (1,height,width,channels)\n",
        "        img_data = np.expand_dims(img_data, axis=0)\n",
        "        if idx == 0:\n",
        "            dataset = img_data\n",
        "        else:\n",
        "            dataset = np.concatenate([dataset, img_data], axis=0)\n",
        "    \n",
        "    dataset = np.array(dataset)\n",
        "    dataset = (dataset - 127.5) / 127.5\n",
        "    np.save(save_path, dataset)\n",
        "    print(\"Train Data Saved\")\n",
        "\n",
        "convert_img_to_npy()"
      ],
      "outputs": [
        {
          "output_type": "stream",
          "name": "stdout",
          "text": [
            "Loading Image Data from ./img_data\n",
            "0 data loaded\n",
            "Train Data Saved\n"
          ]
        }
      ],
      "metadata": {
        "colab": {
          "base_uri": "https://localhost:8080/"
        },
        "id": "xmw6B6WBiEAj",
        "outputId": "cbbd08c3-d1e5-4c08-ddef-84de406d6659"
      }
    },
    {
      "cell_type": "code",
      "execution_count": 21,
      "source": [
        "args_dict = {\n",
        "    'exp_name': \"exp_2\", # 実験名(この名前のフォルダが./expに生成される)\n",
        "    \"noize_dim\": 100, # Gの入力乱数ベクトルの次元\n",
        "    \"batch_size\": 128, # バッチサイズ\n",
        "    \"num_epoch\": 100, # 学習エポック数\n",
        "    \"make_logs\": True, # D,GのLossをLogとして記録するかどうか\n",
        "    \"restore_ckpt\": False, # 学習済みモデルのckptを読み込むかどうか\n",
        "    \"sample_freq\": 10, # 学習中の画像生成頻度(エポック数)\n",
        "    \"ckpt_freq\": 10, # 学習中のckpt保存頻度(エポック数)\n",
        "    \"adam\": {\"lr\":2e-4, # 学習率\n",
        "            \"beta_1\":0.5,\n",
        "            \"beta_2\":0.9,\n",
        "            \"epsilon\":1e-8}\n",
        "    }"
      ],
      "outputs": [],
      "metadata": {
        "id": "kIl4XMiziEAl"
      }
    },
    {
      "cell_type": "code",
      "execution_count": 22,
      "source": [
        "train_data_path = \"./train_data/train_data.npy\"\n",
        "# 学習データサイズ(data_num, H:64, W:64, RGB:3), 値の範囲は[-1,1]\n",
        "print(\"Loading Train Data\")\n",
        "train_data = np.load(train_data_path)\n",
        "print(\"Train Data Loaded\")"
      ],
      "outputs": [
        {
          "output_type": "stream",
          "name": "stdout",
          "text": [
            "Loading Train Data\n",
            "Train Data Loaded\n"
          ]
        }
      ],
      "metadata": {
        "colab": {
          "base_uri": "https://localhost:8080/"
        },
        "id": "AT65FV6oiEAl",
        "outputId": "3a5a2ba4-1a70-4993-8364-816aca5d424c"
      }
    },
    {
      "cell_type": "code",
      "execution_count": 23,
      "source": [
        "model = DCGAN(args_dict)"
      ],
      "outputs": [
        {
          "output_type": "stream",
          "name": "stdout",
          "text": [
            "========================== Model Initialization Done ===========================\n"
          ]
        }
      ],
      "metadata": {
        "colab": {
          "base_uri": "https://localhost:8080/"
        },
        "id": "LRb1nWf4iEAm",
        "outputId": "0661575f-f152-49b1-d0ec-630d09c217ca"
      }
    },
    {
      "cell_type": "code",
      "execution_count": 27,
      "source": [
        "model.train(train_data)"
      ],
      "outputs": [
        {
          "output_type": "stream",
          "name": "stdout",
          "text": [
            "================================ Training Start ================================\n",
            "Generate Images\n",
            "Saved All Generated Data at /content/drive/MyDrive/DNN_code/DNN_code_colab_day4/notebook/4_10_code_dcgan/exp/exp_2/samples/29epoch\n",
            "============================== Saving Checkpoint ===============================\n"
          ]
        },
        {
          "output_type": "error",
          "ename": "UnboundLocalError",
          "evalue": "ignored",
          "traceback": [
            "\u001b[0;31m---------------------------------------------------------------------------\u001b[0m",
            "\u001b[0;31mUnboundLocalError\u001b[0m                         Traceback (most recent call last)",
            "\u001b[0;32m<ipython-input-27-a8430daefac5>\u001b[0m in \u001b[0;36m<cell line: 1>\u001b[0;34m()\u001b[0m\n\u001b[0;32m----> 1\u001b[0;31m \u001b[0mmodel\u001b[0m\u001b[0;34m.\u001b[0m\u001b[0mtrain\u001b[0m\u001b[0;34m(\u001b[0m\u001b[0mtrain_data\u001b[0m\u001b[0;34m)\u001b[0m\u001b[0;34m\u001b[0m\u001b[0;34m\u001b[0m\u001b[0m\n\u001b[0m",
            "\u001b[0;32m/content/drive/My Drive/DNN_code/DNN_code_colab_day4/notebook/4_10_code_dcgan/model_dcgan.py\u001b[0m in \u001b[0;36mtrain\u001b[0;34m(self, train_data)\u001b[0m\n\u001b[1;32m    169\u001b[0m             \u001b[0;32mif\u001b[0m \u001b[0;34m(\u001b[0m\u001b[0me_idx\u001b[0m \u001b[0;34m+\u001b[0m \u001b[0;36m1\u001b[0m\u001b[0;34m)\u001b[0m \u001b[0;34m%\u001b[0m \u001b[0mself\u001b[0m\u001b[0;34m.\u001b[0m\u001b[0msample_freq\u001b[0m \u001b[0;34m==\u001b[0m \u001b[0;36m0\u001b[0m\u001b[0;34m:\u001b[0m\u001b[0;34m\u001b[0m\u001b[0;34m\u001b[0m\u001b[0m\n\u001b[1;32m    170\u001b[0m                 \u001b[0mprint\u001b[0m\u001b[0;34m(\u001b[0m\u001b[0;34m\"{:=^80}\"\u001b[0m\u001b[0;34m.\u001b[0m\u001b[0mformat\u001b[0m\u001b[0;34m(\u001b[0m\u001b[0;34m\" Saving Checkpoint \"\u001b[0m\u001b[0;34m)\u001b[0m\u001b[0;34m)\u001b[0m\u001b[0;34m\u001b[0m\u001b[0;34m\u001b[0m\u001b[0m\n\u001b[0;32m--> 171\u001b[0;31m                 \u001b[0mself\u001b[0m\u001b[0;34m.\u001b[0m\u001b[0mmanager\u001b[0m\u001b[0;34m.\u001b[0m\u001b[0msave\u001b[0m\u001b[0;34m(\u001b[0m\u001b[0mcheckpoint_number\u001b[0m\u001b[0;34m=\u001b[0m\u001b[0mstep\u001b[0m\u001b[0;34m)\u001b[0m\u001b[0;34m\u001b[0m\u001b[0;34m\u001b[0m\u001b[0m\n\u001b[0m\u001b[1;32m    172\u001b[0m         \u001b[0mtotal_time\u001b[0m \u001b[0;34m=\u001b[0m \u001b[0mtime\u001b[0m\u001b[0;34m.\u001b[0m\u001b[0mtime\u001b[0m\u001b[0;34m(\u001b[0m\u001b[0;34m)\u001b[0m \u001b[0;34m-\u001b[0m \u001b[0mtrain_start_time\u001b[0m\u001b[0;34m\u001b[0m\u001b[0;34m\u001b[0m\u001b[0m\n\u001b[1;32m    173\u001b[0m         \u001b[0mprint\u001b[0m\u001b[0;34m(\u001b[0m\u001b[0;34m\"{:=^80}\"\u001b[0m\u001b[0;34m.\u001b[0m\u001b[0mformat\u001b[0m\u001b[0;34m(\u001b[0m\u001b[0;34m\" Training Done \"\u001b[0m\u001b[0;34m)\u001b[0m\u001b[0;34m)\u001b[0m\u001b[0;34m\u001b[0m\u001b[0;34m\u001b[0m\u001b[0m\n",
            "\u001b[0;31mUnboundLocalError\u001b[0m: local variable 'step' referenced before assignment"
          ]
        }
      ],
      "metadata": {
        "colab": {
          "base_uri": "https://localhost:8080/",
          "height": 374
        },
        "id": "AhP3teZTiEAn",
        "outputId": "9b4a90d1-4f01-4470-bf61-f7fe46e7da64"
      }
    },
    {
      "cell_type": "code",
      "execution_count": 26,
      "source": [
        "# 学習済みモデルを用いて画像生成\n",
        "model.generate_img()"
      ],
      "outputs": [
        {
          "output_type": "stream",
          "name": "stdout",
          "text": [
            "Generate Images\n",
            "Saved All Generated Data at /content/drive/MyDrive/DNN_code/DNN_code_colab_day4/notebook/4_10_code_dcgan/exp/exp_2/samples/infer\n"
          ]
        }
      ],
      "metadata": {
        "colab": {
          "base_uri": "https://localhost:8080/"
        },
        "id": "SdcSPRIciEAn",
        "outputId": "ad45d442-7c75-4fa2-8e24-ee869d5a6d88"
      }
    },
    {
      "cell_type": "code",
      "execution_count": 26,
      "source": [],
      "outputs": [],
      "metadata": {
        "id": "Oqc9n65wECMD"
      }
    }
  ],
  "metadata": {
    "accelerator": "GPU",
    "colab": {
      "provenance": [],
      "include_colab_link": true
    },
    "interpreter": {
      "hash": "fc4a78780ec9c8f5fd41b12b5329a21350b5c7c69ca5abee6b7cfefb9cdbec51"
    },
    "kernelspec": {
      "name": "python3",
      "display_name": "Python 3.7.9 64-bit ('.venv': poetry)"
    },
    "language_info": {
      "codemirror_mode": {
        "name": "ipython",
        "version": 3
      },
      "file_extension": ".py",
      "mimetype": "text/x-python",
      "name": "python",
      "nbconvert_exporter": "python",
      "pygments_lexer": "ipython3",
      "version": "3.7.9"
    }
  },
  "nbformat": 4,
  "nbformat_minor": 0
}